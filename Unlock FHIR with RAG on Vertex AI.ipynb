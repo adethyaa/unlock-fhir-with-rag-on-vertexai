{
 "cells": [
  {
   "cell_type": "code",
   "execution_count": null,
   "id": "3674aa63-bc87-45d7-9ddf-11a89e010cb5",
   "metadata": {
    "tags": []
   },
   "outputs": [],
   "source": [
    "# Copyright 2023 Google LLC\n",
    "#\n",
    "# Licensed under the Apache License, Version 2.0 (the \"License\");\n",
    "# you may not use this file except in compliance with the License.\n",
    "# You may obtain a copy of the License at\n",
    "#\n",
    "#     https://www.apache.org/licenses/LICENSE-2.0\n",
    "#\n",
    "# Unless required by applicable law or agreed to in writing, software\n",
    "# distributed under the License is distributed on an \"AS IS\" BASIS,\n",
    "# WITHOUT WARRANTIES OR CONDITIONS OF ANY KIND, either express or implied.\n",
    "# See the License for the specific language governing permissions and\n",
    "# limitations under the License."
   ]
  },
  {
   "cell_type": "markdown",
   "id": "77a772cf-6f39-46c1-a76b-bd304c160869",
   "metadata": {
    "tags": []
   },
   "source": [
    "# Unlock FHIR with RAG on Vertex AI"
   ]
  },
  {
   "cell_type": "markdown",
   "id": "85fc0b21-0a5a-4c32-b372-9624d84a13f4",
   "metadata": {
    "tags": []
   },
   "source": [
    "## {TO-DO Update Links} Run the Notebook\n",
    "\n",
    "**_NOTE_**: This notebook has been tested in the following environment:\n",
    "\n",
    "* Python version = 3.10.13\n",
    "\n",
    "<table align=\"left\">\n",
    "  <td style=\"text-align: center\">\n",
    "    <a href=\"https://colab.research.google.com/github/GoogleCloudPlatform/generative-ai/blob/main/language/use-cases/document-qa/question_answering_documents_langchain_matching_engine.ipynb\">\n",
    "      <img src=\"https://cloud.google.com/ml-engine/images/colab-logo-32px.png\" alt=\"Google Colaboratory logo\"><br> Run in Colab\n",
    "    </a>\n",
    "  </td>\n",
    "  <td style=\"text-align: center\">\n",
    "    <a href=\"https://github.com/GoogleCloudPlatform/generative-ai/blob/main/language/use-cases/document-qa/question_answering_documents_langchain_matching_engine.ipynb\">\n",
    "      <img src=\"https://cloud.google.com/ml-engine/images/github-logo-32px.png\" alt=\"GitHub logo\"><br> View on GitHub\n",
    "    </a>\n",
    "  </td>\n",
    "  <td style=\"text-align: center\">\n",
    "    <a href=\"https://console.cloud.google.com/vertex-ai/workbench/deploy-notebook?download_url=https://raw.githubusercontent.com/GoogleCloudPlatform/generative-ai/blob/main/language/use-cases/document-qa/question_answering_documents_langchain_matching_engine.ipynb\">\n",
    "      <img src=\"https://lh3.googleusercontent.com/UiNooY4LUgW_oTvpsNhPpQzsstV5W8F7rYgxgGBD85cWJoLmrOzhVs_ksK_vgx40SHs7jCqkTkCk=e14-rj-sc0xffffff-h130-w32\" alt=\"Vertex AI logo\"><br> Open in Vertex AI Workbench\n",
    "    </a>\n",
    "  </td>\n",
    "</table>"
   ]
  },
  {
   "cell_type": "markdown",
   "id": "298b88f6-9934-4b82-a34f-71eaaa774205",
   "metadata": {},
   "source": [
    "| | |\n",
    "|-|-|\n",
    "|Author(s) | [Vikrama Adethyaa](https://github.com/adethyaa) |"
   ]
  },
  {
   "cell_type": "markdown",
   "id": "ec8e0f8b-8c58-42c0-a427-c0fef6de822b",
   "metadata": {},
   "source": [
    "---\n",
    "## Overview\n",
    "\n",
    "This notebook demonstrates building a natural language interface to complex [FHIR](https://fhir.org/about.html) datasets using [Google Cloud’s Vertex AI](https://cloud.google.com/vertex-ai?hl=en).  Leveraging Retrieval Augmented Generation (RAG), Enterprise Knowledge Graphs, and Vector Search, this solution empowers healthcare professionals to query FHIR data with natural language. This demo is inspired by [Sam Schifman's work](https://medium.com/@samschifman/rag-on-fhir-with-knowledge-graphs-04d8e13ee96e)."
   ]
  },
  {
   "cell_type": "markdown",
   "id": "b8993564-2aba-4121-bfaf-26707c4567f2",
   "metadata": {},
   "source": [
    "---\n",
    "## Environment Setup"
   ]
  },
  {
   "cell_type": "markdown",
   "id": "e3c0101e-93aa-45d4-a0f9-472a2d198ff1",
   "metadata": {},
   "source": [
    "### Set up your Google Cloud project\n",
    "\n",
    "**The following steps are required, regardless of your notebook environment.**\n",
    "\n",
    "1. [Select or create a Google Cloud project](https://console.cloud.google.com/cloud-resource-manager). When you first create an account, you get a $300 free credit towards your compute/storage costs.\n",
    "\n",
    "2. [Make sure that billing is enabled for your project](https://cloud.google.com/billing/docs/how-to/modify-project).\n",
    "\n",
    "3. [Enable the Vertex AI API](https://console.cloud.google.com/flows/enableapi?apiid=aiplatform.googleapis.com).\n",
    "\n",
    "4. If you are running this notebook locally, you need to install the [Cloud SDK](https://cloud.google.com/sdk)."
   ]
  },
  {
   "cell_type": "markdown",
   "id": "242e0dab-155e-4d9d-9895-c0588da7784d",
   "metadata": {},
   "source": [
    "### Install Packages and Dependencies\n",
    "Please install the following packages to run this notebook."
   ]
  },
  {
   "cell_type": "code",
   "execution_count": null,
   "id": "d39d7707-82f7-421f-908f-1d398c1e9537",
   "metadata": {
    "tags": []
   },
   "outputs": [],
   "source": [
    "# Install Vertex AI SDK\n",
    "! pip install --user --upgrade google-cloud-aiplatform==1.43.0 \n",
    "\n",
    "# Install Langchain \n",
    "! pip install --user --upgrade langchain==0.1.11 langchain-google-vertexai\n",
    "\n",
    "# Install Neo4j\n",
    "! pip install --user --upgrade neo4j==5.18.0\n",
    "\n",
    "# For Matching Engine integration dependencies\n",
    "! pip install --user --upgrade tensorflow tensorflow-hub tensorflow-text"
   ]
  },
  {
   "cell_type": "markdown",
   "id": "0e97732f-ad64-40ff-bea3-f0feb709fd3b",
   "metadata": {},
   "source": [
    "### Download Matching Engine Helper Scripts\n",
    "\n",
    "- ***Matching Engine*** is now called ***[Vertex AI Vector Search](https://cloud.google.com/vertex-ai/docs/vector-search/overview)***\n",
    "- The cell below downloads helper functions necessary for the Vertex AI Matching Engine. These functions improve notebook readability. You can find the ***[source code on Github](https://github.com/GoogleCloudPlatform/generative-ai/tree/main/language/use-cases/document-qa/utils).***"
   ]
  },
  {
   "cell_type": "code",
   "execution_count": null,
   "id": "005b5a21-7464-4ef7-adc3-782285d2d309",
   "metadata": {
    "tags": []
   },
   "outputs": [],
   "source": [
    "import os\n",
    "import urllib.request\n",
    "\n",
    "util_folder = \"utils\"\n",
    "\n",
    "if not os.path.exists(util_folder):\n",
    "    os.makedirs(util_folder)\n",
    "\n",
    "url_prefix = \"https://raw.githubusercontent.com/GoogleCloudPlatform/generative-ai/main/language/use-cases/document-qa/utils\"\n",
    "files = [\"__init__.py\", \"matching_engine.py\", \"matching_engine_utils.py\"]\n",
    "\n",
    "for fname in files:\n",
    "    urllib.request.urlretrieve(f\"{url_prefix}/{fname}\", filename=f\"{util_folder}/{fname}\")"
   ]
  },
  {
   "cell_type": "markdown",
   "id": "b5ea4c31-de61-423d-9e19-09d28c15737f",
   "metadata": {
    "tags": []
   },
   "source": [
    "***Restart Kernel***\n",
    "\n",
    "Run the following cell to restart the kernel or use the button to restart the kernel.\n",
    "\n",
    "<div class=\"alert alert-block alert-warning\">\n",
    "<b>⚠️ Kindly allow the kernel to finish restarting before continuing. ⚠️</b>\n",
    "</div>"
   ]
  },
  {
   "cell_type": "code",
   "execution_count": 1,
   "id": "913677bf-4b62-4b66-aec2-ba9e346fa547",
   "metadata": {
    "tags": []
   },
   "outputs": [
    {
     "data": {
      "text/plain": [
       "{'status': 'ok', 'restart': True}"
      ]
     },
     "execution_count": 1,
     "metadata": {},
     "output_type": "execute_result"
    }
   ],
   "source": [
    "# Automatically restart kernel after installs so that your environment can access the new packages\n",
    "import IPython\n",
    "\n",
    "app = IPython.Application.instance()\n",
    "app.kernel.do_shutdown(True)"
   ]
  },
  {
   "cell_type": "markdown",
   "id": "fc33f0ce-daa7-4704-8648-202c0bd6e0ea",
   "metadata": {},
   "source": [
    "### Authenticating your notebook environment\n",
    "\n",
    "- If you are using **Colab** to run this notebook, run the cell below and continue.\n",
    "- If you are using **Vertex AI Workbench**, check out the setup instructions [here](https://github.com/GoogleCloudPlatform/generative-ai/tree/main/setup-env)"
   ]
  },
  {
   "cell_type": "code",
   "execution_count": 1,
   "id": "5fc7c013-4bd0-4c24-a28d-599f5143eca4",
   "metadata": {
    "tags": []
   },
   "outputs": [],
   "source": [
    "import sys\n",
    "\n",
    "if \"google.colab\" in sys.modules:\n",
    "    from google.colab import auth\n",
    "\n",
    "    auth.authenticate_user()"
   ]
  },
  {
   "cell_type": "markdown",
   "id": "79683a19-3adf-46ab-8e71-334683196fbb",
   "metadata": {},
   "source": [
    "**Vertex AI Workbench**\n",
    "- Open a Terminal in the Jupyter notebook\n",
    "- Execute the below command and follow the instructions\n",
    "\n",
    "```bash\n",
    "gcloud auth login\n",
    "```"
   ]
  },
  {
   "cell_type": "markdown",
   "id": "7f061980-d6fa-4b08-8aa2-65c000674e62",
   "metadata": {},
   "source": [
    "### Define Variables"
   ]
  },
  {
   "cell_type": "code",
   "execution_count": 2,
   "id": "916368fc-fcaf-49ec-aa35-c3491cfa426c",
   "metadata": {
    "tags": []
   },
   "outputs": [],
   "source": [
    "# Limit FHIR files loaded for demo purposes\n",
    "# Since Data Ingestion into Neo4J and Vector Search Index takes time, We set the parameter below to control the number of files ingested.\n",
    "DEMO_FILES_INGEST_LIMIT = 20 # @param {type:\"integer\"}\n",
    "\n",
    "# GCP Parameters\n",
    "PROJECT_ID = \"propane-crawler-363311\"  # @param {type:\"string\"}\n",
    "REGION = \"us-central1\"  # @param {type: \"string\"}\n",
    "\n",
    "# Neo4J Connection Parameters\n",
    "NEO4J_URL=\"bolt://localhost:7687\" # @param {type:\"string\"}\n",
    "NEO4J_USER=\"neo4j\" # @param {type:\"string\"}\n",
    "NEO4J_PASSWORD=\"password\" # @param {type:\"string\"}\n",
    "\n",
    "# Vertex AI Vector Search (MatchingEngine) Index Parameters\n",
    "ME_INDEX_NAME = 'fhir_me_index'  # @param {type: \"string\"}\n",
    "ME_EMBEDDING_GCS_DIR = f'{PROJECT_ID}-me-bucket' # @param {type:\"string\"} \n",
    "ME_DESCRIPTION = \"Index for FHIR Resources\" # @param {type:\"string\"} \n",
    "\n",
    "ME_ENHANCED_CONTEXT_INDEX_NAME = f'{ME_INDEX_NAME}_enhanced' # @param {type:\"string\"} \n",
    "ME_ENHANCED_EMBEDDING_GCS_DIR = f'{ME_EMBEDDING_GCS_DIR}_enhanced' # @param {type:\"string\"} \n",
    "ME_ENHANCED_DESCRIPTION = f'Enhanced Context {ME_DESCRIPTION}' # @param {type:\"string\"} \n",
    "\n",
    "# Dimension Vertex PaLM Text Embedding\n",
    "ME_DIMENSIONS = 768 # @param {type:\"integer\"} \n",
    "ME_DISTANCE_MEASURE_TYPE = \"DOT_PRODUCT_DISTANCE\" # @param {type:\"string\"} \n",
    "\n",
    "# Update to bigger SHARDS for larger data volumes & performance\n",
    "# Doc - https://cloud.google.com/vertex-ai/docs/vector-search/create-manage-index\n",
    "ME_SHARD_SIZE = \"SHARD_SIZE_SMALL\" # @param [\"SHARD_SIZE_SMALL\", \"SHARD_SIZE_MEDIUM\", \"SHARD_SIZE_LARGE\"] \n",
    "\n",
    "# Vertex AI Vector Search (MatchingEngine) Endpoint Parameters\n",
    "# Doc - https://cloud.google.com/vertex-ai/docs/vector-search/create-manage-index\n",
    "\n",
    "# The machine types that you can use to deploy your index\n",
    "ME_ENDPOINT_MACHINE_TYPE = \"e2-standard-2\" # @param [\"n1-standard-16\", \"n1-standard-32\", \"e2-standard-2\", \"e2-standard-16\", \"e2-highmem-16\", \"n2d-standard-32\"] \n",
    "\n",
    "ME_ENDPOINT_MIN_REPLICA_COUNT = 2 # @param {type:\"integer\"} \n",
    "ME_ENDPOINT_MAX_REPLICA_COUNT = 10 # @param {type:\"integer\"} \n",
    "\n",
    "\n",
    "# Set the LLM to use\n",
    "VERTEX_AI_MODEL_NAME = 'gemini-1.0-pro-001'"
   ]
  },
  {
   "cell_type": "markdown",
   "id": "0f253c06-aa6c-40f0-9eec-d17f8db3366c",
   "metadata": {},
   "source": [
    "### Import Libraries"
   ]
  },
  {
   "cell_type": "markdown",
   "id": "3f54b383-6811-4494-9e6f-cc57e4b9b879",
   "metadata": {},
   "source": [
    "- **Colab only:** Run the below cell to initialize the Vertex AI SDK. For Vertex AI Workbench, you don't need to run this.\n"
   ]
  },
  {
   "cell_type": "code",
   "execution_count": 3,
   "id": "da298a4d-bdcd-494f-9dab-de0fd9fe7341",
   "metadata": {
    "tags": []
   },
   "outputs": [],
   "source": [
    "import vertexai\n",
    "vertexai.init(project=PROJECT_ID, location=REGION)"
   ]
  },
  {
   "cell_type": "markdown",
   "id": "be1669cb-591e-4cb6-9eb9-70307c428c9a",
   "metadata": {},
   "source": [
    "- Import Python Libraries\n",
    "\n",
    "<div class=\"alert alert-block alert-warning\">\n",
    "<b>⚠️ Restart python kernel if issues while importing langchain  ⚠️</b>\n",
    "</div>"
   ]
  },
  {
   "cell_type": "code",
   "execution_count": 4,
   "id": "3982e5e8-9a8c-4203-9110-76b239afa014",
   "metadata": {
    "tags": []
   },
   "outputs": [
    {
     "name": "stdout",
     "output_type": "stream",
     "text": [
      "LangChain version: 0.1.11\n"
     ]
    }
   ],
   "source": [
    "# Utils\n",
    "import os\n",
    "import glob\n",
    "from pprint import pprint\n",
    "import json\n",
    "\n",
    "import time\n",
    "import datetime\n",
    "\n",
    "import uuid\n",
    "import numpy as np\n",
    "\n",
    "import warnings\n",
    "\n",
    "import logging\n",
    "logger = logging.getLogger()\n",
    "logger.setLevel(logging.CRITICAL)\n",
    "\n",
    "from google.protobuf.json_format import MessageToDict\n",
    "\n",
    "# Google Vertex AI\n",
    "# from google.cloud import aiplatform\n",
    "# print(f\"Vertex AI SDK version: {aiplatform.__version__}\")\n",
    "\n",
    "# Neo4j Helper scripts\n",
    "from utils.NEO4J_Graph import Graph\n",
    "from utils.FHIR_to_string import FHIR_to_string\n",
    "from utils.FHIR_to_graph import resource_to_node, resource_to_edges, flat_fhir_to_json_str\n",
    "\n",
    "# Langchain\n",
    "import langchain\n",
    "print(f\"LangChain version: {langchain.__version__}\")\n",
    "\n",
    "from langchain_google_vertexai import VertexAI\n",
    "from langchain_google_vertexai import VertexAIEmbeddings\n",
    "from langchain import PromptTemplate\n",
    "\n",
    "# Import libraries\n",
    "from langchain.chains import RetrievalQA\n",
    "from langchain_google_vertexai import ChatVertexAI\n",
    "\n",
    "\n",
    "# Import custom Matching Engine packages\n",
    "from utils.matching_engine import MatchingEngine\n",
    "from utils.matching_engine_utils import MatchingEngineUtils\n",
    "\n",
    "# Import Custom LangChain Retriever\n",
    "from utils.FHIRResourcesRetriever import FHIRResourcesRetriever\n",
    "\n",
    "warnings.filterwarnings(\"ignore\")"
   ]
  },
  {
   "cell_type": "markdown",
   "id": "9e03096b-bc95-4740-a28a-f7ea4efec943",
   "metadata": {
    "tags": []
   },
   "source": [
    "---\n",
    "## Fetch FHIR Synthetic Data\n",
    "\n",
    "We will be using sample FHIR data from [Synthea](https://synthea.mitre.org/) for the purpose of this demonstration. \n",
    "We will be using the pre-generated data available [here](https://synthetichealth.github.io/synthea-sample-data/downloads/latest/synthea_sample_data_fhir_latest.zip). "
   ]
  },
  {
   "cell_type": "markdown",
   "id": "02cb6154-8bf6-4b94-8960-7dcc55e6d54c",
   "metadata": {},
   "source": [
    "### Download synthetic FHIR Data from Synthea"
   ]
  },
  {
   "cell_type": "code",
   "execution_count": null,
   "id": "8b652574-b870-4d1a-ac40-d31ca2738f2b",
   "metadata": {
    "tags": []
   },
   "outputs": [],
   "source": [
    "! mkdir -p $HOME/working\n",
    "\n",
    "! curl  \\\n",
    "--url https://synthetichealth.github.io/synthea-sample-data/downloads/latest/synthea_sample_data_fhir_latest.zip \\\n",
    "--output $HOME/working/synthea_sample_data_fhir_latest.zip"
   ]
  },
  {
   "cell_type": "markdown",
   "id": "55d86884-d640-4c5b-a00a-f3aadf47afd6",
   "metadata": {},
   "source": [
    "- Unzip the synthea_sample_data_fhir_latest.zip "
   ]
  },
  {
   "cell_type": "code",
   "execution_count": null,
   "id": "23a02767-6f2e-4b3a-b583-77c3b654468b",
   "metadata": {
    "tags": []
   },
   "outputs": [],
   "source": [
    "! unzip $HOME/working/synthea_sample_data_fhir_latest.zip -d $HOME/working/bundles"
   ]
  },
  {
   "cell_type": "markdown",
   "id": "dc942558-b2af-4a4e-89b8-b5944f2eef66",
   "metadata": {},
   "source": [
    "### Taking Inventory of FHIR Files"
   ]
  },
  {
   "cell_type": "code",
   "execution_count": 5,
   "id": "a51c2e20-ebc2-413b-969e-dde035111f1b",
   "metadata": {
    "tags": []
   },
   "outputs": [
    {
     "name": "stdout",
     "output_type": "stream",
     "text": [
      "Number of FHIR Files that would be ingested: 20\n"
     ]
    }
   ],
   "source": [
    "# Feth all FHIR Files\n",
    "fhir_folder_path = './working/bundles'\n",
    "fhir_files_list = glob.glob(f\"{fhir_folder_path}/*.json\")\n",
    "\n",
    "# Limiting files to ingest\n",
    "fhir_files_list.sort()\n",
    "fhir_files_list = fhir_files_list[:DEMO_FILES_INGEST_LIMIT]\n",
    "\n",
    "\n",
    "num_of_files = len(fhir_files_list)\n",
    "print(f'Number of FHIR Files that would be ingested: {num_of_files}')"
   ]
  },
  {
   "cell_type": "code",
   "execution_count": 6,
   "id": "1a08d65a-8c89-449b-9033-ee5631595480",
   "metadata": {
    "tags": []
   },
   "outputs": [
    {
     "name": "stdout",
     "output_type": "stream",
     "text": [
      "\n",
      "Number of FHIR Files to process = 20\n",
      "Total Resources:14060\n",
      "\n",
      "Resource Types Count:\n",
      "{'AllergyIntolerance': 23,\n",
      " 'CarePlan': 66,\n",
      " 'CareTeam': 66,\n",
      " 'Claim': 1245,\n",
      " 'Condition': 526,\n",
      " 'Device': 23,\n",
      " 'DiagnosticReport': 1451,\n",
      " 'DocumentReference': 743,\n",
      " 'Encounter': 743,\n",
      " 'ExplanationOfBenefit': 1245,\n",
      " 'ImagingStudy': 13,\n",
      " 'Immunization': 299,\n",
      " 'Medication': 63,\n",
      " 'MedicationAdministration': 63,\n",
      " 'MedicationRequest': 502,\n",
      " 'Observation': 5252,\n",
      " 'Patient': 20,\n",
      " 'Procedure': 1513,\n",
      " 'Provenance': 20,\n",
      " 'SupplyDelivery': 184}\n",
      "\n",
      "File Resources Meta:\n",
      "[{'file_name': 'Adalberto916_Bernier607_a69d4bbb-0ddb-e8fc-0984-0ba9a27d961f.json',\n",
      "  'resources_count': 718},\n",
      " {'file_name': 'Adela471_Escalante498_9d8f8194-a7a5-b8a5-8d7b-a14e5fa7ba3c.json',\n",
      "  'resources_count': 545},\n",
      " {'file_name': 'Alejandra902_Murillo232_de08ab4a-7258-d0e3-e282-8d97e06e1dc7.json',\n",
      "  'resources_count': 357},\n",
      " {'file_name': 'Alexis664_Schaefer657_d0d9bbbc-cd3e-f376-c55f-c6ed5f70fd3e.json',\n",
      "  'resources_count': 269},\n",
      " {'file_name': 'Alina705_Brianne669_Sauer652_46d19dbd-2270-43cc-ac55-43b2b9d7df81.json',\n",
      "  'resources_count': 367},\n",
      " {'file_name': 'Alona471_Alexis664_Wuckert783_0168079e-95eb-82d0-40fb-41b2a51c9150.json',\n",
      "  'resources_count': 940},\n",
      " {'file_name': 'Alonso270_Hyatt152_df479d55-bb06-eadf-b6d0-aadc82eb905f.json',\n",
      "  'resources_count': 309},\n",
      " {'file_name': \"Amy965_Enedina292_O'Kon634_4f4a3081-ff78-7bc6-15ea-3ca7294815b6.json\",\n",
      "  'resources_count': 969},\n",
      " {'file_name': 'Antionette825_Wiza601_f48a4185-564f-fac4-f63f-bd7ec3a7c523.json',\n",
      "  'resources_count': 791},\n",
      " {'file_name': 'Antone63_Kessler503_ff8b984d-7727-92f0-0995-ae25d0eb774f.json',\n",
      "  'resources_count': 425},\n",
      " {'file_name': 'Apryl870_Hahn503_920d0c0c-4f64-37c6-c6a1-4df91a95b807.json',\n",
      "  'resources_count': 640},\n",
      " {'file_name': 'Ardith914_Graham902_7dd2724f-7108-d053-5468-6663262b170b.json',\n",
      "  'resources_count': 2508},\n",
      " {'file_name': 'Arianne988_Grant908_009557a2-0f3a-43da-c71b-4410d466b696.json',\n",
      "  'resources_count': 504},\n",
      " {'file_name': 'Asia282_Ione925_Collier206_f25de2b7-e356-2894-4847-f91c4d44c9e8.json',\n",
      "  'resources_count': 401},\n",
      " {'file_name': 'Athena83_Kuhn96_ab326c78-7b3a-35de-c095-84ea88fcea98.json',\n",
      "  'resources_count': 437},\n",
      " {'file_name': 'Babara869_Cruickshank494_981d046d-fffa-d477-045a-78643dffa257.json',\n",
      "  'resources_count': 413},\n",
      " {'file_name': \"Barbar976_D'Amore443_3da78799-b1bb-4d39-561b-5ddef078075b.json\",\n",
      "  'resources_count': 1011},\n",
      " {'file_name': 'Bert917_Beier427_6ec0fd58-012e-1f9f-a4f9-c7eab3172d12.json',\n",
      "  'resources_count': 757},\n",
      " {'file_name': 'Bobbye345_Stehr398_808b6cdc-5088-805b-56a0-7be18c930bcd.json',\n",
      "  'resources_count': 1079},\n",
      " {'file_name': 'Carmelo33_Reichert620_01e4dc4f-0fa5-3c2e-e05d-50a323ca53a4.json',\n",
      "  'resources_count': 620}]\n"
     ]
    }
   ],
   "source": [
    "file_counter = 1\n",
    "total_resources = 0\n",
    "file_resources_meta_list = []\n",
    "resource_types_count = {}\n",
    "\n",
    "for fhir_file in fhir_files_list:\n",
    "    fhir_file_name = os.path.basename(fhir_file)\n",
    "    # print(f'File {file_counter} of {num_of_files}: {fhir_file_name}')\n",
    "    file_counter += 1\n",
    "    \n",
    "    with open(fhir_file) as raw:\n",
    "        bundle = json.load(raw)\n",
    "        resources_entry_list = bundle['entry']\n",
    "            \n",
    "        # Resources Counter\n",
    "        num_of_resources = len(resources_entry_list)\n",
    "        total_resources += num_of_resources\n",
    "        file_resources_meta = {}\n",
    "        file_resources_meta['file_name'] = fhir_file_name\n",
    "        file_resources_meta['resources_count'] = num_of_resources\n",
    "        \n",
    "        file_resources_meta_list.append(file_resources_meta)\n",
    "        \n",
    "        # Count Individual Resource Types\n",
    "        for entry in resources_entry_list:\n",
    "            resource = entry['resource']\n",
    "            resource_type = resource[\"resourceType\"]\n",
    "\n",
    "            if resource_type not in resource_types_count.keys():\n",
    "                # print(f'Creating Dict entry for Resource: {resource_type}')\n",
    "                resource_types_count[resource_type] = 0\n",
    "            \n",
    "            resource_types_count[resource_type] += 1\n",
    "\n",
    "print(f'\\nNumber of FHIR Files to process = {num_of_files}')            \n",
    "print(f'Total Resources:{total_resources}\\n')\n",
    "\n",
    "print(f'Resource Types Count:')\n",
    "pprint(resource_types_count)\n",
    "\n",
    "print('\\nFile Resources Meta:')\n",
    "pprint(file_resources_meta_list)"
   ]
  },
  {
   "cell_type": "markdown",
   "id": "1c996aec-847f-4a6e-a790-2b808b5a9a42",
   "metadata": {},
   "source": [
    "---\n",
    "## Load FHIR Data into Neo4J\n",
    "\n",
    "### Deploy Neo4J Docker Container\n",
    "\n",
    "We'll use **Docker** to deploy a local Neo4j instance for demo purposes.  For production environments, we highly recommend Neo4j on Google Cloud Marketplace. [Try Neo4j on Google Cloud Marketplace](https://console.cloud.google.com/marketplace/product/endpoints/prod.n4gcp.neo4j.io?pli=1&mpp=4bfb2414ab973c741b6f067bf06d5575&mpid=%24device%3A18e0c346ea25f9-098a968de268b5-1d525637-384000-18e0c346ea25fa).\n",
    "\n",
    "The command below launches a local Neo4j database Docker container named ***testneo4j***. Let's break down what it does:\n",
    "\n",
    "**Port Mapping:**\n",
    "- 7474: Access the Neo4j web interface through your browser (usually http://localhost:7474).\n",
    "- 7687: Enables communication with Neo4j using the Bolt protocol (essential for working with the database).\n",
    "\n",
    "**Data Volumes:** Folders on your machine ($HOME/neo4j/*) store your database, logs, imports, etc., so your data is safe even if the container stops.\n",
    "\n",
    "**Secure Credentials:** Variables `{NEO4J_USER}` and `{NEO4J_PASSWORD}` set your Neo4j username and password for secure access."
   ]
  },
  {
   "cell_type": "code",
   "execution_count": null,
   "id": "09d7f89c-a285-43c7-9228-6078390f2a19",
   "metadata": {
    "tags": []
   },
   "outputs": [],
   "source": [
    "%env NEO4J_USER={NEO4J_USER}\n",
    "%env NEO4J_PASSWORD={NEO4J_PASSWORD}"
   ]
  },
  {
   "cell_type": "code",
   "execution_count": null,
   "id": "74753b6e-1af0-43e7-bc5e-3ed8a32cef19",
   "metadata": {
    "tags": []
   },
   "outputs": [],
   "source": [
    "! docker run --name testneo4j -p7474:7474 -p7687:7687 -d \\\n",
    "    -v $HOME/neo4j/data:/data \\\n",
    "    -v $HOME/neo4j/logs:/logs \\\n",
    "    -v $HOME/neo4j/import:/var/lib/neo4j/import \\\n",
    "    -v $HOME/neo4j/plugins:/plugins \\\n",
    "    --env NEO4J_AUTH=$NEO4J_USER/$NEO4J_PASSWORD \\\n",
    "    --env='NEO4JLABS_PLUGINS=[\"apoc\"]' \\\n",
    "    neo4j:latest"
   ]
  },
  {
   "cell_type": "code",
   "execution_count": 8,
   "id": "52722622-ef65-458b-aae9-cc98121af1f3",
   "metadata": {
    "tags": []
   },
   "outputs": [
    {
     "name": "stdout",
     "output_type": "stream",
     "text": [
      "CONTAINER ID   IMAGE          COMMAND                  CREATED      STATUS         PORTS                                                                                            NAMES\n",
      "a78c9e1e40b3   neo4j:latest   \"tini -g -- /startup…\"   6 days ago   Up 4 seconds   0.0.0.0:7474->7474/tcp, :::7474->7474/tcp, 7473/tcp, 0.0.0.0:7687->7687/tcp, :::7687->7687/tcp   testneo4j\n"
     ]
    }
   ],
   "source": [
    "# Check if Docker Container is running\n",
    "! docker ps -a"
   ]
  },
  {
   "cell_type": "code",
   "execution_count": 7,
   "id": "c01e6b9c-6d70-49b6-ae3c-754f89476301",
   "metadata": {
    "tags": []
   },
   "outputs": [
    {
     "name": "stdout",
     "output_type": "stream",
     "text": [
      "testneo4j\n"
     ]
    }
   ],
   "source": [
    "# Start the Container if it is not running\n",
    "! docker start testneo4j"
   ]
  },
  {
   "cell_type": "markdown",
   "id": "88decb24-dd20-44b7-87f8-f863f299db1d",
   "metadata": {},
   "source": [
    "### Connect to Neo4J Database\n",
    "\n",
    "This code block creates a Graph object instance, establishing a connection to the Neo4j database.\n",
    "See **utils/NEO4J_Graph.py** for more information"
   ]
  },
  {
   "cell_type": "code",
   "execution_count": 9,
   "id": "6d31a64f-3ef0-41fe-9c1b-e34d09abd2e6",
   "metadata": {
    "tags": []
   },
   "outputs": [],
   "source": [
    "graph = Graph(NEO4J_URL, NEO4J_USER, NEO4J_PASSWORD)"
   ]
  },
  {
   "cell_type": "markdown",
   "id": "92ba3ea1-acf2-4716-834c-bb115a2707f2",
   "metadata": {},
   "source": [
    "### Neo4J Data Loading Functions"
   ]
  },
  {
   "cell_type": "code",
   "execution_count": 10,
   "id": "dc98a33e-87b7-486b-ac8f-03c0674a6824",
   "metadata": {
    "tags": []
   },
   "outputs": [],
   "source": [
    "# Create FHIR Resource nodes in Neo4j\n",
    "def create_resource_node(resource:dict) -> str:\n",
    "    # print(resource_to_node(resource))\n",
    "    node_creation_cypher = resource_to_node(resource)\n",
    "    query_result, runtime = graph.query(node_creation_cypher)\n",
    "    \n",
    "    if len(query_result[0]) != 1:\n",
    "        print(query_result)\n",
    "        raise Exception(\"Resource Node creation query result does not meet defined format.\")\n",
    "       \n",
    "    node_id = query_result[0][0]\n",
    "    return node_id"
   ]
  },
  {
   "cell_type": "code",
   "execution_count": 11,
   "id": "896709c4-5a2d-4b0c-8a05-2cb90d1cb617",
   "metadata": {
    "tags": []
   },
   "outputs": [],
   "source": [
    "# Create Date Nodes and Edges between Resource Nodes and Date Nodes\n",
    "def create_date_nodes_edges(resource):\n",
    "    edges = []\n",
    "    dates = set() # set is used here to make sure dates are unique\n",
    "\n",
    "    # generated the cypher for creating the reference & date edges and capture dates\n",
    "    node_edges, node_dates = resource_to_edges(resource)\n",
    "    edges += node_edges\n",
    "    dates.update(node_dates)\n",
    "    \n",
    "    # Create Date Nodes - 'MERGE' Skip if Node exists\n",
    "    for date in dates:\n",
    "        cypher = 'MERGE (n:Date {name:\"' + date + '\", id: \"' + date + '\"})'\n",
    "        graph.query(cypher)\n",
    "    \n",
    "    # Connect Resource Nodes and Date Nodes via Edges \n",
    "    for edge in edges:\n",
    "        try:\n",
    "            graph.query(edge)\n",
    "        except:\n",
    "            print(f'Failed to create edge: {edge}')\n",
    "    \n",
    "    return len(dates), len(edges)"
   ]
  },
  {
   "cell_type": "markdown",
   "id": "f29f0949-0851-49bc-bbde-abf566020d37",
   "metadata": {},
   "source": [
    "### Ingest Data to Neo4J"
   ]
  },
  {
   "cell_type": "code",
   "execution_count": 12,
   "id": "4f63d024-d76e-4ff3-be49-2604f55801c3",
   "metadata": {
    "tags": []
   },
   "outputs": [],
   "source": [
    "def load_fhir_neo4j(fhir_files_list):\n",
    "    file_counter = 0\n",
    "    \n",
    "    for fhir_file in fhir_files_list:\n",
    "        \n",
    "        fhir_file_name = os.path.basename(fhir_file)\n",
    "        file_counter += 1\n",
    "        \n",
    "        if file_counter > 1:\n",
    "            print(\"\\n\")\n",
    "        \n",
    "        print(f'File {file_counter} of {num_of_files}: {fhir_file_name}')\n",
    "        \n",
    "        with open(fhir_file) as raw:\n",
    "            bundle = json.load(raw)\n",
    "            resources_entry_list = bundle['entry']\n",
    "            \n",
    "            num_of_resources = len(resources_entry_list)\n",
    "            print(f'    - Number of resources = {num_of_resources}')\n",
    "                \n",
    "            resource_counter = 0\n",
    "            for entry in resources_entry_list:\n",
    "                resource_counter += 1\n",
    "                \n",
    "                resource = entry['resource']\n",
    "                # print(resource)\n",
    "                resource_id = resource[\"id\"]\n",
    "                resource_type = resource[\"resourceType\"]\n",
    "                \n",
    "                # Skip Provenance Resource\n",
    "                if resource_type == 'Provenance':\n",
    "                    continue\n",
    "\n",
    "                    \n",
    "                print(f'    - Processing Resource {resource_counter} of {num_of_resources}: Resource-Type = {resource_type}, Resource-ID = {resource_id}', end=\"\\r\", flush=True)\n",
    "                \n",
    "                #### LOAD DATA INTO NEO4J ####\n",
    "                \n",
    "                # Create Resource Nodes\n",
    "                node_id = create_resource_node(resource)\n",
    "                # print (node_id)\n",
    "                \n",
    "                # Create Date Nodes and Edges to connect Resource Nodes to Date Nodes\n",
    "                date_nodes_count, edges_count = create_date_nodes_edges(resource)"
   ]
  },
  {
   "cell_type": "markdown",
   "id": "22a99da3-49fb-4251-ae24-dc3391a0bef9",
   "metadata": {},
   "source": [
    "**Trigger Neo4J Data Ingestion**\n",
    "<div class=\"alert alert-block alert-warning\">\n",
    "<b>⚠️ Important: Below step will take few minutes to complete! ⚠️</b>\n",
    "</div>"
   ]
  },
  {
   "cell_type": "code",
   "execution_count": 13,
   "id": "3c88f40e-7909-402c-b58d-a408021b6c91",
   "metadata": {
    "tags": []
   },
   "outputs": [
    {
     "name": "stdout",
     "output_type": "stream",
     "text": [
      "Set ingest_data to True to ingest data. Currently ingest_data=False\n"
     ]
    }
   ],
   "source": [
    "ingest_data = False\n",
    "\n",
    "if ingest_data:\n",
    "    start_time = time.time()\n",
    "    load_fhir_neo4j(fhir_files_list)\n",
    "    end_time = time.time()\n",
    "\n",
    "    total_duration = str(datetime.timedelta(seconds = end_time - start_time))\n",
    "    print(f'\\nData Loading Completed in {total_duration}')\n",
    "else:\n",
    "    print(f'Set ingest_data to True to ingest data. Currently ingest_data={ingest_data}')"
   ]
  },
  {
   "cell_type": "markdown",
   "id": "db2eeb64-7d5a-4aa8-b2e6-6a9a6881e502",
   "metadata": {},
   "source": [
    "### Neo4j Database Helper Cells\n",
    "\n",
    "The following three cells contain database management functions. For a new or blank database, you can skip them."
   ]
  },
  {
   "cell_type": "code",
   "execution_count": 15,
   "id": "0f1dc653-1a32-4fbc-9af2-c1b9d27cadaa",
   "metadata": {
    "tags": []
   },
   "outputs": [
    {
     "name": "stdout",
     "output_type": "stream",
     "text": [
      "[['AllergyIntolerance', 23],\n",
      " ['CarePlan', 66],\n",
      " ['CareTeam', 66],\n",
      " ['Claim', 1245],\n",
      " ['Condition', 526],\n",
      " ['Device', 23],\n",
      " ['DiagnosticReport', 1451],\n",
      " ['DocumentReference', 743],\n",
      " ['Encounter', 743],\n",
      " ['ExplanationOfBenefit', 1245],\n",
      " ['ImagingStudy', 13],\n",
      " ['Immunization', 299],\n",
      " ['Medication', 63],\n",
      " ['MedicationAdministration', 63],\n",
      " ['MedicationRequest', 502],\n",
      " ['Observation', 5252],\n",
      " ['Patient', 20],\n",
      " ['Procedure', 1513],\n",
      " ['SupplyDelivery', 184]]\n"
     ]
    }
   ],
   "source": [
    "# Get type and number of each FHIR resource in the database\n",
    "resource_metrics = graph.resource_metrics()\n",
    "resource_metrics.sort()\n",
    "pprint(resource_metrics)"
   ]
  },
  {
   "cell_type": "code",
   "execution_count": 16,
   "id": "04cf6497-5998-46bf-aa31-565dab333130",
   "metadata": {
    "tags": []
   },
   "outputs": [
    {
     "name": "stdout",
     "output_type": "stream",
     "text": [
      "Database Metrics:\n",
      "    - Node Count = 15497\n",
      "    - Relationship Count = 78165\n"
     ]
    }
   ],
   "source": [
    "# metrics for counting nodes and relationships\n",
    "node_count, relationship_count = graph.database_metrics()\n",
    "print('Database Metrics:')\n",
    "print(f'    - Node Count = {node_count}')\n",
    "print(f'    - Relationship Count = {relationship_count}')"
   ]
  },
  {
   "cell_type": "markdown",
   "id": "1f461c6b-3f8e-4c9d-bf06-ae3b833c14da",
   "metadata": {},
   "source": [
    "- Wipe Database - Deletes all nodes and their relationships in database\n",
    "\n",
    "<div class=\"alert alert-block alert-warning\">\n",
    "<b>⚠️ Warning: This command completely erases the Neo4j database. Proceed with extreme caution. ⚠️</b>\n",
    "</div>"
   ]
  },
  {
   "cell_type": "markdown",
   "id": "9514fd83-8890-4c11-a3c1-4095691f5f25",
   "metadata": {},
   "source": [
    "### Fetch Resource Nodes from Neo4J"
   ]
  },
  {
   "cell_type": "code",
   "execution_count": 17,
   "id": "f0ef39f8-c280-4049-852f-d9b52b9664ea",
   "metadata": {
    "tags": []
   },
   "outputs": [],
   "source": [
    "def get_nodes_in_batches(graph, batch_size=1000):\n",
    "    skip = 0\n",
    "    while True:\n",
    "        query_string = f'MATCH (r:resource) RETURN r SKIP {skip} LIMIT {batch_size}'        \n",
    "        # print(query_string)\n",
    "        results = graph.query(query_string)\n",
    "        nodes = results[0]\n",
    "        \n",
    "        if not nodes:\n",
    "            break  # No more nodes to fetch\n",
    "        \n",
    "        yield nodes  # Process this batch\n",
    "        skip += batch_size"
   ]
  },
  {
   "cell_type": "code",
   "execution_count": 18,
   "id": "c6f0374c-b87e-4200-838b-f45984df9c89",
   "metadata": {
    "tags": []
   },
   "outputs": [
    {
     "name": "stdout",
     "output_type": "stream",
     "text": [
      "{'AllergyIntolerance': 23,\n",
      " 'CarePlan': 66,\n",
      " 'CareTeam': 66,\n",
      " 'Claim': 1245,\n",
      " 'Condition': 526,\n",
      " 'Device': 23,\n",
      " 'DiagnosticReport': 1451,\n",
      " 'DocumentReference': 743,\n",
      " 'Encounter': 743,\n",
      " 'ExplanationOfBenefit': 1245,\n",
      " 'ImagingStudy': 13,\n",
      " 'Immunization': 299,\n",
      " 'Medication': 63,\n",
      " 'MedicationAdministration': 63,\n",
      " 'MedicationRequest': 502,\n",
      " 'Observation': 5252,\n",
      " 'Patient': 20,\n",
      " 'Procedure': 1513,\n",
      " 'SupplyDelivery': 184}\n",
      "Total Resource Nodes = 14040\n"
     ]
    }
   ],
   "source": [
    "# print report on Resource nodes\n",
    "batch_counter = 0\n",
    "resource_counter = 0\n",
    "resources_types_dict = {}\n",
    "\n",
    "for batch in get_nodes_in_batches(graph):\n",
    "    batch_counter += 1\n",
    "    # print(f'Batch: {batch_counter}, Len of Batch = {len(batch)}')\n",
    "    \n",
    "    for node in batch:\n",
    "        resource_counter += 1\n",
    "        resource_type = node[0]['resource_type']\n",
    "        \n",
    "        if resource_type not in resources_types_dict.keys():\n",
    "            resources_types_dict[resource_type] = 0\n",
    "        \n",
    "        resources_types_dict[resource_type] += 1\n",
    "        # print(node[0])\n",
    "\n",
    "sorted_dict = dict(sorted(resources_types_dict.items()))\n",
    "pprint(sorted_dict)\n",
    "print(f'Total Resource Nodes = {resource_counter}')"
   ]
  },
  {
   "cell_type": "markdown",
   "id": "9bbe2030-09cd-4165-b319-6404ce8f701b",
   "metadata": {},
   "source": [
    "---\n",
    "## Load FHIR Data into Vector Search\n",
    "[Vertex AI Vector Search Docs](https://cloud.google.com/vertex-ai/docs/vector-search/overview)"
   ]
  },
  {
   "cell_type": "markdown",
   "id": "a750ff2f-54e8-4636-bc34-440424043d27",
   "metadata": {},
   "source": [
    "### Create GCS Bucket \n",
    "\n",
    "The Google Cloud Storage Bucket will be used by Vector Store Index.\n",
    "[Create and manage your index](https://cloud.google.com/vertex-ai/docs/vector-search/create-manage-index)"
   ]
  },
  {
   "cell_type": "code",
   "execution_count": null,
   "id": "b9e6040c-00f5-4273-bef3-ec7f998019fd",
   "metadata": {
    "tags": []
   },
   "outputs": [],
   "source": [
    "! set -x && gsutil mb -p $PROJECT_ID -l $REGION gs://$ME_EMBEDDING_GCS_DIR"
   ]
  },
  {
   "cell_type": "markdown",
   "id": "1783556c-9a7e-4e0b-8d8c-93945136cede",
   "metadata": {},
   "source": [
    "### Import Google LLM Models\n",
    "\n",
    "Load the pre-trained models textembedding-gecko@003 (embedding generation)\n",
    "Learn more about Google's Foundation Models and their capabilities in this [documentation](https://cloud.google.com/vertex-ai/generative-ai/docs/learn/models#foundation_model_apis)."
   ]
  },
  {
   "cell_type": "code",
   "execution_count": 19,
   "id": "ec2ab449-c52e-4597-a755-ea1bf2ba6fcf",
   "metadata": {
    "tags": []
   },
   "outputs": [
    {
     "name": "stderr",
     "output_type": "stream",
     "text": [
      "INFO:google.auth.compute_engine._metadata:Compute Engine Metadata server call to universe/universe_domain returned 404, reason: <!DOCTYPE html>\n",
      "<html lang=en>\n",
      "  <meta charset=utf-8>\n",
      "  <meta name=viewport content=\"initial-scale=1, minimum-scale=1, width=device-width\">\n",
      "  <title>Error 404 (Not Found)!!1</title>\n",
      "  <style>\n",
      "    *{margin:0;padding:0}html,code{font:15px/22px arial,sans-serif}html{background:#fff;color:#222;padding:15px}body{margin:7% auto 0;max-width:390px;min-height:180px;padding:30px 0 15px}* > body{background:url(//www.google.com/images/errors/robot.png) 100% 5px no-repeat;padding-right:205px}p{margin:11px 0 22px;overflow:hidden}ins{color:#777;text-decoration:none}a img{border:0}@media screen and (max-width:772px){body{background:none;margin-top:0;max-width:none;padding-right:0}}#logo{background:url(//www.google.com/images/branding/googlelogo/1x/googlelogo_color_150x54dp.png) no-repeat;margin-left:-5px}@media only screen and (min-resolution:192dpi){#logo{background:url(//www.google.com/images/branding/googlelogo/2x/googlelogo_color_150x54dp.png) no-repeat 0% 0%/100% 100%;-moz-border-image:url(//www.google.com/images/branding/googlelogo/2x/googlelogo_color_150x54dp.png) 0}}@media only screen and (-webkit-min-device-pixel-ratio:2){#logo{background:url(//www.google.com/images/branding/googlelogo/2x/googlelogo_color_150x54dp.png) no-repeat;-webkit-background-size:100% 100%}}#logo{display:inline-block;height:54px;width:150px}\n",
      "  </style>\n",
      "  <a href=//www.google.com/><span id=logo aria-label=Google></span></a>\n",
      "  <p><b>404.</b> <ins>That’s an error.</ins>\n",
      "  <p>The requested URL <code>/computeMetadata/v1/universe/universe_domain</code> was not found on this server.  <ins>That’s all we know.</ins>\n",
      "\n"
     ]
    },
    {
     "data": {
      "text/plain": [
       "VertexAIEmbeddings(client=<vertexai.language_models.TextEmbeddingModel object at 0x7f74d86178b0>, project='propane-crawler-363311', location='us-central1', request_parallelism=5, max_retries=6, stop=None, model_name='textembedding-gecko@003', client_preview=None, temperature=None, max_output_tokens=None, top_p=None, top_k=None, credentials=None, n=1, streaming=False, safety_settings=None, instance={'max_batch_size': 250, 'batch_size': 250, 'min_batch_size': 5, 'min_good_batch_size': 5, 'lock': <unlocked _thread.lock object at 0x7f74cb3017c0>, 'batch_size_validated': False, 'task_executor': <concurrent.futures.thread.ThreadPoolExecutor object at 0x7f74d891f760>, 'embeddings_task_type_supported': True, 'get_embeddings_with_retry': <function TextEmbeddingModel.get_embeddings at 0x7f74c9f23e20>})"
      ]
     },
     "execution_count": 19,
     "metadata": {},
     "output_type": "execute_result"
    }
   ],
   "source": [
    "# Create Text Embedding\n",
    "embeddings = VertexAIEmbeddings(\n",
    "    model_name=\"textembedding-gecko@003\",\n",
    "    project=PROJECT_ID,\n",
    "    location=REGION,\n",
    "    max_retries=6\n",
    ")\n",
    "\n",
    "embeddings"
   ]
  },
  {
   "cell_type": "markdown",
   "id": "6614417f-b38c-49bb-8b66-09b1aa3a5593",
   "metadata": {},
   "source": [
    "### Create Vertex AI Vector Search Index\n",
    "\n",
    "In this step, we'll create the Vector Search Index.\n",
    "\n",
    "For more details, refer to the Create and Manage Index: https://cloud.google.com/vertex-ai/docs/vector-search/create-manage-index documentation.\n",
    "Vector Store supports two index types:\n",
    "\n",
    "- **Batch Updates:** Ideal for less frequent modifications.\n",
    "- **Streaming Updates:** Allows near-real-time additions and queries (our choice for this example)."
   ]
  },
  {
   "cell_type": "markdown",
   "id": "fda349da-d111-4241-b6d6-50f95b777cd5",
   "metadata": {},
   "source": [
    "- Let's create a dummy embeddings file required to initialize the Vector Search Index."
   ]
  },
  {
   "cell_type": "code",
   "execution_count": null,
   "id": "ede8c777-3d87-49b2-b436-df2e4201d7ff",
   "metadata": {
    "tags": []
   },
   "outputs": [],
   "source": [
    "# Create Temp folder\n",
    "! mkdir $HOME/temp\n",
    "\n",
    "# Create Dummy Embdeddng Data\n",
    "dummy_embedding = {\"id\": str(uuid.uuid4()), \"embedding\": list(np.zeros(ME_DIMENSIONS))}\n",
    "\n",
    "# Write Dummy Embedding Data to a JSON file\n",
    "with open('./temp/dummy_embedding.json', 'w') as f:\n",
    "    json.dump(dummy_embedding, f)\n",
    "    \n",
    "# Copy the dummy_embedding.json to Cloud Storage Bucket.\n",
    "! set -x && gsutil cp ./temp/dummy_embedding.json gs://{ME_EMBEDDING_GCS_DIR}/init_index/dummy_embedding.json"
   ]
  },
  {
   "cell_type": "markdown",
   "id": "af8a6c9d-587a-4ae2-98fe-cfa4ad4a6f62",
   "metadata": {},
   "source": [
    "- Let us now create a [Streaming Index](https://cloud.google.com/vertex-ai/docs/vector-search/create-manage-index#create-stream-index)"
   ]
  },
  {
   "cell_type": "markdown",
   "id": "92207044-b131-4744-859a-036a2f7cce72",
   "metadata": {},
   "source": [
    "<div class=\"alert alert-block alert-warning\">\n",
    "<b>⚠️ Important: Index creation may take a few minutes. ⚠️</b>\n",
    "</div>"
   ]
  },
  {
   "cell_type": "code",
   "execution_count": 20,
   "id": "72d74e37-0912-4d12-917b-0af4cc254ee1",
   "metadata": {
    "tags": []
   },
   "outputs": [
    {
     "name": "stderr",
     "output_type": "stream",
     "text": [
      "INFO:google.auth.compute_engine._metadata:Compute Engine Metadata server call to universe/universe_domain returned 404, reason: <!DOCTYPE html>\n",
      "<html lang=en>\n",
      "  <meta charset=utf-8>\n",
      "  <meta name=viewport content=\"initial-scale=1, minimum-scale=1, width=device-width\">\n",
      "  <title>Error 404 (Not Found)!!1</title>\n",
      "  <style>\n",
      "    *{margin:0;padding:0}html,code{font:15px/22px arial,sans-serif}html{background:#fff;color:#222;padding:15px}body{margin:7% auto 0;max-width:390px;min-height:180px;padding:30px 0 15px}* > body{background:url(//www.google.com/images/errors/robot.png) 100% 5px no-repeat;padding-right:205px}p{margin:11px 0 22px;overflow:hidden}ins{color:#777;text-decoration:none}a img{border:0}@media screen and (max-width:772px){body{background:none;margin-top:0;max-width:none;padding-right:0}}#logo{background:url(//www.google.com/images/branding/googlelogo/1x/googlelogo_color_150x54dp.png) no-repeat;margin-left:-5px}@media only screen and (min-resolution:192dpi){#logo{background:url(//www.google.com/images/branding/googlelogo/2x/googlelogo_color_150x54dp.png) no-repeat 0% 0%/100% 100%;-moz-border-image:url(//www.google.com/images/branding/googlelogo/2x/googlelogo_color_150x54dp.png) 0}}@media only screen and (-webkit-min-device-pixel-ratio:2){#logo{background:url(//www.google.com/images/branding/googlelogo/2x/googlelogo_color_150x54dp.png) no-repeat;-webkit-background-size:100% 100%}}#logo{display:inline-block;height:54px;width:150px}\n",
      "  </style>\n",
      "  <a href=//www.google.com/><span id=logo aria-label=Google></span></a>\n",
      "  <p><b>404.</b> <ins>That’s an error.</ins>\n",
      "  <p>The requested URL <code>/computeMetadata/v1/universe/universe_domain</code> was not found on this server.  <ins>That’s all we know.</ins>\n",
      "\n",
      "INFO:root:Index fhir_me_index already exists with id projects/884766917846/locations/us-central1/indexes/7150753036078415872\n"
     ]
    }
   ],
   "source": [
    "me_utils = MatchingEngineUtils(PROJECT_ID, REGION, ME_INDEX_NAME)\n",
    "\n",
    "me_index = me_utils.create_index(\n",
    "    embedding_gcs_uri=f'gs://{ME_EMBEDDING_GCS_DIR}/init_index',\n",
    "    dimensions=ME_DIMENSIONS,\n",
    "    index_update_method='streaming',\n",
    "    index_algorithm='tree-ah',\n",
    "    shard_size= ME_SHARD_SIZE,\n",
    "    distance_measure_type=ME_DISTANCE_MEASURE_TYPE,\n",
    "    description=ME_DESCRIPTION\n",
    ")\n",
    "# me_index"
   ]
  },
  {
   "cell_type": "code",
   "execution_count": 21,
   "id": "a8029985-8970-47cc-9b26-d68470806794",
   "metadata": {
    "tags": []
   },
   "outputs": [
    {
     "name": "stdout",
     "output_type": "stream",
     "text": [
      "Index Details:\n",
      "- Index Name = projects/884766917846/locations/us-central1/indexes/7150753036078415872\n",
      "- Update Method = STREAM_UPDATE\n",
      "- Dimensions = 768.0\n",
      "- Shard Size = SHARD_SIZE_SMALL\n",
      "- Distance Measure Type = DOT_PRODUCT_DISTANCE\n",
      "- Algorithm = treeAhConfig\n"
     ]
    }
   ],
   "source": [
    "# Get information about the Index\n",
    "if me_index:\n",
    "    index_metadata = MessageToDict(me_index._pb)\n",
    "    print('Index Details:')\n",
    "    print(f'- Index Name = {index_metadata[\"name\"]}')\n",
    "    print(f'- Update Method = {index_metadata[\"indexUpdateMethod\"]}')\n",
    "    print(f'- Dimensions = {index_metadata[\"metadata\"][\"config\"][\"dimensions\"]}')\n",
    "    print(f'- Shard Size = {index_metadata[\"metadata\"][\"config\"][\"shardSize\"]}')\n",
    "    print(f'- Distance Measure Type = {index_metadata[\"metadata\"][\"config\"][\"distanceMeasureType\"]}')\n",
    "    algorithm = list(index_metadata[\"metadata\"][\"config\"]['algorithmConfig'].keys())[0]\n",
    "    print(f'- Algorithm = {algorithm}')\n",
    "    # print(f'- Index Stats = {index_metadata[\"indexStats\"]}')\n",
    "\n",
    "# index_metadata"
   ]
  },
  {
   "cell_type": "markdown",
   "id": "b90e103b-899a-4a0d-8526-751ecf1639ba",
   "metadata": {},
   "source": [
    "### Deploy Vector Search Index to an Index Endpoint\n",
    "\n",
    "In this step, we'll deploy the Index to a Vector Search Index Endpoint. This endpoint is essential for sending queries to your index. \n",
    "\n",
    "We'll use a [public endpoint](https://cloud.google.com/vertex-ai/docs/vector-search/deploy-index-public) for this example. \n",
    "\n",
    "To set up a [Private Endpoint](https://cloud.google.com/vertex-ai/docs/vector-search/deploy-index-vpc), please refer to the documentation.\n",
    "\n",
    "<div class=\"alert alert-block alert-warning\">\n",
    "<b>⚠️ Important: Deploying an Index to an Endpoint takes time, typically around 15 minutes or more. ⚠️</b>\n",
    "</div>\n"
   ]
  },
  {
   "cell_type": "code",
   "execution_count": 22,
   "id": "3d108d4e-6d55-495f-ae91-c59a9192aca9",
   "metadata": {
    "tags": []
   },
   "outputs": [
    {
     "name": "stderr",
     "output_type": "stream",
     "text": [
      "INFO:google.auth.compute_engine._metadata:Compute Engine Metadata server call to universe/universe_domain returned 404, reason: <!DOCTYPE html>\n",
      "<html lang=en>\n",
      "  <meta charset=utf-8>\n",
      "  <meta name=viewport content=\"initial-scale=1, minimum-scale=1, width=device-width\">\n",
      "  <title>Error 404 (Not Found)!!1</title>\n",
      "  <style>\n",
      "    *{margin:0;padding:0}html,code{font:15px/22px arial,sans-serif}html{background:#fff;color:#222;padding:15px}body{margin:7% auto 0;max-width:390px;min-height:180px;padding:30px 0 15px}* > body{background:url(//www.google.com/images/errors/robot.png) 100% 5px no-repeat;padding-right:205px}p{margin:11px 0 22px;overflow:hidden}ins{color:#777;text-decoration:none}a img{border:0}@media screen and (max-width:772px){body{background:none;margin-top:0;max-width:none;padding-right:0}}#logo{background:url(//www.google.com/images/branding/googlelogo/1x/googlelogo_color_150x54dp.png) no-repeat;margin-left:-5px}@media only screen and (min-resolution:192dpi){#logo{background:url(//www.google.com/images/branding/googlelogo/2x/googlelogo_color_150x54dp.png) no-repeat 0% 0%/100% 100%;-moz-border-image:url(//www.google.com/images/branding/googlelogo/2x/googlelogo_color_150x54dp.png) 0}}@media only screen and (-webkit-min-device-pixel-ratio:2){#logo{background:url(//www.google.com/images/branding/googlelogo/2x/googlelogo_color_150x54dp.png) no-repeat;-webkit-background-size:100% 100%}}#logo{display:inline-block;height:54px;width:150px}\n",
      "  </style>\n",
      "  <a href=//www.google.com/><span id=logo aria-label=Google></span></a>\n",
      "  <p><b>404.</b> <ins>That’s an error.</ins>\n",
      "  <p>The requested URL <code>/computeMetadata/v1/universe/universe_domain</code> was not found on this server.  <ins>That’s all we know.</ins>\n",
      "\n",
      "INFO:root:Index endpoint fhir_me_index-endpoint already exists with resource name as projects/884766917846/locations/us-central1/indexEndpoints/2715411090560253952 and endpoint domain name as 1443686377.us-central1-884766917846.vdb.vertexai.goog\n",
      "INFO:root:Skipping deploying Index. Index fhir_me_indexalready deployed with id projects/884766917846/locations/us-central1/indexes/7150753036078415872 to the index endpoint fhir_me_index-endpoint\n"
     ]
    }
   ],
   "source": [
    "me_endpoint = me_utils.deploy_index(\n",
    "    machine_type=ME_ENDPOINT_MACHINE_TYPE,\n",
    "    min_replica_count=ME_ENDPOINT_MIN_REPLICA_COUNT,\n",
    "    max_replica_count=ME_ENDPOINT_MAX_REPLICA_COUNT,\n",
    "    public_endpoint_enabled=True\n",
    ")"
   ]
  },
  {
   "cell_type": "code",
   "execution_count": 23,
   "id": "95ae52af-c6c4-4f5f-8b5c-844b76eb0716",
   "metadata": {
    "tags": []
   },
   "outputs": [
    {
     "name": "stdout",
     "output_type": "stream",
     "text": [
      "Endpoint Name: projects/884766917846/locations/us-central1/indexEndpoints/2715411090560253952\n",
      "Endpoint Public Domain Name: 1443686377.us-central1-884766917846.vdb.vertexai.goog\n",
      "Deployed indexes on the endpoint:\n",
      "    - Deployed Indexe ID = fhir_me_index_20240328062600\n",
      "      Machine Type = e2-standard-2\n",
      "      Min Replica Count = 2\n",
      "      Max Replica Count = 10\n"
     ]
    }
   ],
   "source": [
    "if me_endpoint:\n",
    "    endpoint_metadata = MessageToDict(me_endpoint._pb)\n",
    "    print(f'Endpoint Name: {endpoint_metadata[\"name\"]}')\n",
    "    print(f'Endpoint Public Domain Name: {endpoint_metadata[\"publicEndpointDomainName\"]}')\n",
    "    print('Deployed indexes on the endpoint:')\n",
    "    \n",
    "    for d in me_endpoint.deployed_indexes:\n",
    "        print(f'    - Deployed Indexe ID = {d.id}')\n",
    "        print(f'      Machine Type = {d.dedicated_resources.machine_spec.machine_type}')\n",
    "        print(f'      Min Replica Count = {d.dedicated_resources.min_replica_count}')\n",
    "        print(f'      Max Replica Count = {d.dedicated_resources.max_replica_count}')\n",
    "        \n",
    "# endpoint_metadata"
   ]
  },
  {
   "cell_type": "markdown",
   "id": "c1d92055-753f-48c9-b111-7e15990de42c",
   "metadata": {},
   "source": [
    "### Ingest Data to VertexAI Vector Search"
   ]
  },
  {
   "cell_type": "code",
   "execution_count": 24,
   "id": "2e57bfe8-78ee-4ae9-800b-0c1785bd4a28",
   "metadata": {
    "tags": []
   },
   "outputs": [
    {
     "name": "stdout",
     "output_type": "stream",
     "text": [
      "ME_INDEX_ID=projects/884766917846/locations/us-central1/indexes/7150753036078415872\n",
      "ME_INDEX_ENDPOINT_ID=projects/884766917846/locations/us-central1/indexEndpoints/2715411090560253952\n"
     ]
    }
   ],
   "source": [
    "# Get Matching Engine Index id and Endpoint id\n",
    "ME_INDEX_ID, ME_INDEX_ENDPOINT_ID = me_utils.get_index_and_endpoint()\n",
    "print(f\"ME_INDEX_ID={ME_INDEX_ID}\")\n",
    "print(f\"ME_INDEX_ENDPOINT_ID={ME_INDEX_ENDPOINT_ID}\")"
   ]
  },
  {
   "cell_type": "code",
   "execution_count": 25,
   "id": "f1edf048-9efe-4165-9ec5-324831352c28",
   "metadata": {
    "tags": []
   },
   "outputs": [],
   "source": [
    "#### Load Resource Text to Vector Search ####\n",
    "\n",
    "def add_resource_text_embedding(me: MatchingEngine, resource_data):      \n",
    "    \n",
    "    resource_text_metadata = [\n",
    "        {\"namespace\": \"fhir_patient_id\", \"allow_list\": [resource_data['patient_id']]},\n",
    "        {\"namespace\": \"fhir_resource_id\", \"allow_list\": [resource_data['resource_id']]},\n",
    "        {\"namespace\": \"fhir_resource_type\", \"allow_list\": [resource_data['resource_type']]},\n",
    "        {\"namespace\": \"neo4j_node_id\", \"allow_list\": [resource_data['neo4j_id']]}\n",
    "    ]\n",
    "\n",
    "    # Add Resource Text Embeddings to Vector Search\n",
    "    resource_text = resource_data['resource_text']\n",
    "    if resource_text is not None:\n",
    "        try:\n",
    "            ids = me.add_texts(texts=[resource_text], metadatas=[resource_text_metadata])\n",
    "            return ids\n",
    "        except Exception as err:\n",
    "            print(f\"\\nERROR: Unexpected while adding embeddings {err=}, {type(err)=}\")\n",
    "            print(f'Resource_Text = {resource_text}')\n",
    "            print(f'Resource Metadata = {resource_text_metadata}')"
   ]
  },
  {
   "cell_type": "code",
   "execution_count": 26,
   "id": "ddec2491-21ad-48ad-b77b-0cb3d4cc3033",
   "metadata": {
    "tags": []
   },
   "outputs": [],
   "source": [
    "def get_related_resource_node_texts(neo4j_node_id: str) -> str:\n",
    "    contextualize_query = f\"\"\"\n",
    "    MATCH (node :resource)\n",
    "    WHERE elementId(node)='{neo4j_node_id}'\n",
    "    MATCH(node)<-[]->(sc:resource)\n",
    "    with node.text as self, reduce(s=\"\", item in collect(distinct sc.text) | s + \"\\n\\nSecondary Entry:\\n\" + item ) as ctxt limit 1\n",
    "    return \"Primary Entry:\\n\" + self + ctxt as text\"\"\"\n",
    "\n",
    "    resource_text = graph.query(contextualize_query)[0][0][0]\n",
    "    \n",
    "    return resource_text"
   ]
  },
  {
   "cell_type": "code",
   "execution_count": 27,
   "id": "70108bf5-e875-46ff-b16b-66d1cf5efa06",
   "metadata": {
    "tags": []
   },
   "outputs": [],
   "source": [
    "# Add Text Embeddings of all Resource Text to Vector Search\n",
    "\n",
    "def create_embeddings_of_all_resource_text(me: MatchingEngine, enhanced_context=False):\n",
    "    batch_counter = 0\n",
    "    resource_counter = 0\n",
    "    resources_types_dict = {}\n",
    "    \n",
    "    if enhanced_context:\n",
    "        print('Enhanced Context Enabled')\n",
    "    \n",
    "    # Since we have large number of Resources, we iterate in batches\n",
    "    for batch in get_nodes_in_batches(graph):\n",
    "        batch_counter += 1\n",
    "        # print(f'Batch: {batch_counter}, Len of Batch = {len(batch)}')\n",
    "        \n",
    "        for node in batch:\n",
    "            resource_counter += 1\n",
    "            resource_data = {\n",
    "                'neo4j_id': node[0].element_id,\n",
    "                'resource_id': node[0]['id'],\n",
    "                'resource_type': node[0]['resource_type'],\n",
    "                # 'resource_text': node[0]['text']        \n",
    "            }\n",
    "            \n",
    "            # Get related Patient ID of the Resource\n",
    "            resource_data['patient_id'] = \"\"\n",
    "            if node[0]['resource_type'] == 'Patient':\n",
    "                # print (node[0])\n",
    "                resource_data['patient_id'] = node[0]['id']\n",
    "            elif node[0]['subject_reference']:\n",
    "                resource_data['patient_id'] = node[0]['subject_reference'].split(':')[-1]\n",
    "            elif node[0]['patient_reference']: \n",
    "                resource_data['patient_id'] = node[0]['patient_reference'].split(':')[-1] \n",
    "            else:\n",
    "                print(f\"no patient id for resource_id: {node[0]['resource_id']}, resource_type: {node[0]['resource_type']}\")\n",
    "                # break\n",
    "            \n",
    "            if enhanced_context:\n",
    "                resource_data['resource_text'] = get_related_resource_node_texts(node[0].element_id)\n",
    "            else:\n",
    "                resource_data['resource_text'] = node[0]['text']\n",
    "\n",
    "\n",
    "            print(f\"Processing patient_id: {resource_data['patient_id']} node_id: {resource_data['neo4j_id']}, resource_id={resource_data['resource_id']}, resource_type={resource_data['resource_type']}\", end='\\r', flush=True)\n",
    "\n",
    "            # Create Embedding\n",
    "            ids = add_resource_text_embedding(me, resource_data)\n",
    "            print(f'Vector Search_ID: {ids}', end='\\r', flush=True)\n",
    "            # break\n",
    "            \n",
    "            resource_type = resource_data['resource_type']\n",
    "            if resource_type not in resources_types_dict.keys():\n",
    "                resources_types_dict[resource_type] = 0\n",
    "\n",
    "            resources_types_dict[resource_type] += 1\n",
    "\n",
    "        # break\n",
    "    print(f'\\nProcessed Resources: {resource_counter}')\n",
    "    print('Resources Types Processed:')\n",
    "    print(resources_types_dict)\n"
   ]
  },
  {
   "cell_type": "code",
   "execution_count": 28,
   "id": "b118c646-5c69-4ecf-8fb7-53de346ee959",
   "metadata": {
    "tags": []
   },
   "outputs": [
    {
     "name": "stderr",
     "output_type": "stream",
     "text": [
      "INFO:google.auth.compute_engine._metadata:Compute Engine Metadata server call to universe/universe_domain returned 404, reason: <!DOCTYPE html>\n",
      "<html lang=en>\n",
      "  <meta charset=utf-8>\n",
      "  <meta name=viewport content=\"initial-scale=1, minimum-scale=1, width=device-width\">\n",
      "  <title>Error 404 (Not Found)!!1</title>\n",
      "  <style>\n",
      "    *{margin:0;padding:0}html,code{font:15px/22px arial,sans-serif}html{background:#fff;color:#222;padding:15px}body{margin:7% auto 0;max-width:390px;min-height:180px;padding:30px 0 15px}* > body{background:url(//www.google.com/images/errors/robot.png) 100% 5px no-repeat;padding-right:205px}p{margin:11px 0 22px;overflow:hidden}ins{color:#777;text-decoration:none}a img{border:0}@media screen and (max-width:772px){body{background:none;margin-top:0;max-width:none;padding-right:0}}#logo{background:url(//www.google.com/images/branding/googlelogo/1x/googlelogo_color_150x54dp.png) no-repeat;margin-left:-5px}@media only screen and (min-resolution:192dpi){#logo{background:url(//www.google.com/images/branding/googlelogo/2x/googlelogo_color_150x54dp.png) no-repeat 0% 0%/100% 100%;-moz-border-image:url(//www.google.com/images/branding/googlelogo/2x/googlelogo_color_150x54dp.png) 0}}@media only screen and (-webkit-min-device-pixel-ratio:2){#logo{background:url(//www.google.com/images/branding/googlelogo/2x/googlelogo_color_150x54dp.png) no-repeat;-webkit-background-size:100% 100%}}#logo{display:inline-block;height:54px;width:150px}\n",
      "  </style>\n",
      "  <a href=//www.google.com/><span id=logo aria-label=Google></span></a>\n",
      "  <p><b>404.</b> <ins>That’s an error.</ins>\n",
      "  <p>The requested URL <code>/computeMetadata/v1/universe/universe_domain</code> was not found on this server.  <ins>That’s all we know.</ins>\n",
      "\n"
     ]
    }
   ],
   "source": [
    "# Initialize vector store\n",
    "me = MatchingEngine.from_components(\n",
    "    project_id=PROJECT_ID,\n",
    "    region=REGION,\n",
    "    gcs_bucket_name=f\"gs://{ME_EMBEDDING_GCS_DIR}\".split(\"/\")[2],\n",
    "    embedding=embeddings,\n",
    "    index_id=ME_INDEX_ID,\n",
    "    endpoint_id=ME_INDEX_ENDPOINT_ID,\n",
    ")"
   ]
  },
  {
   "cell_type": "markdown",
   "id": "eb3ec42b-3a6c-4725-a52f-3c492991099c",
   "metadata": {},
   "source": [
    "In the Cell below we are creating Embeddings of Resource Text and ingesting it into Vertex AI Vector Search.\n",
    "\n",
    "<div class=\"alert alert-block alert-warning\">\n",
    "<b>⚠️ Important: Below step will take few minutes to complete! ⚠️</b>\n",
    "</div>"
   ]
  },
  {
   "cell_type": "code",
   "execution_count": 29,
   "id": "965e2cb2-ea5f-4c32-9fa9-c5a484f5b378",
   "metadata": {
    "tags": []
   },
   "outputs": [
    {
     "name": "stdout",
     "output_type": "stream",
     "text": [
      "Set ingest_data to True to ingest data. Currently ingest_data=False\n"
     ]
    }
   ],
   "source": [
    "ingest_data = False\n",
    "\n",
    "if ingest_data:\n",
    "    start_time = time.time()\n",
    "    create_embeddings_of_all_resource_text(me, enhanced_context=False)\n",
    "    end_time = time.time()\n",
    "\n",
    "    total_duration = str(datetime.timedelta(seconds = end_time - start_time))\n",
    "    print(f'\\nData Loading Completed in {total_duration}')\n",
    "\n",
    "else:\n",
    "    print(f'Set ingest_data to True to ingest data. Currently ingest_data={ingest_data}')"
   ]
  },
  {
   "cell_type": "markdown",
   "id": "7420776e-14e3-4caf-bfed-36e4d2e9aa3d",
   "metadata": {},
   "source": [
    "### Query Vector Search Embeddings\n",
    "In the step below we query the Vector Search DB to verify data load is successful."
   ]
  },
  {
   "cell_type": "code",
   "execution_count": 30,
   "id": "89b1d0a5-6806-429f-9e5b-efad281de83a",
   "metadata": {
    "tags": []
   },
   "outputs": [
    {
     "name": "stderr",
     "output_type": "stream",
     "text": [
      "INFO:google.auth.compute_engine._metadata:Compute Engine Metadata server call to universe/universe_domain returned 404, reason: <!DOCTYPE html>\n",
      "<html lang=en>\n",
      "  <meta charset=utf-8>\n",
      "  <meta name=viewport content=\"initial-scale=1, minimum-scale=1, width=device-width\">\n",
      "  <title>Error 404 (Not Found)!!1</title>\n",
      "  <style>\n",
      "    *{margin:0;padding:0}html,code{font:15px/22px arial,sans-serif}html{background:#fff;color:#222;padding:15px}body{margin:7% auto 0;max-width:390px;min-height:180px;padding:30px 0 15px}* > body{background:url(//www.google.com/images/errors/robot.png) 100% 5px no-repeat;padding-right:205px}p{margin:11px 0 22px;overflow:hidden}ins{color:#777;text-decoration:none}a img{border:0}@media screen and (max-width:772px){body{background:none;margin-top:0;max-width:none;padding-right:0}}#logo{background:url(//www.google.com/images/branding/googlelogo/1x/googlelogo_color_150x54dp.png) no-repeat;margin-left:-5px}@media only screen and (min-resolution:192dpi){#logo{background:url(//www.google.com/images/branding/googlelogo/2x/googlelogo_color_150x54dp.png) no-repeat 0% 0%/100% 100%;-moz-border-image:url(//www.google.com/images/branding/googlelogo/2x/googlelogo_color_150x54dp.png) 0}}@media only screen and (-webkit-min-device-pixel-ratio:2){#logo{background:url(//www.google.com/images/branding/googlelogo/2x/googlelogo_color_150x54dp.png) no-repeat;-webkit-background-size:100% 100%}}#logo{display:inline-block;height:54px;width:150px}\n",
      "  </style>\n",
      "  <a href=//www.google.com/><span id=logo aria-label=Google></span></a>\n",
      "  <p><b>404.</b> <ins>That’s an error.</ins>\n",
      "  <p>The requested URL <code>/computeMetadata/v1/universe/universe_domain</code> was not found on this server.  <ins>That’s all we know.</ins>\n",
      "\n",
      "INFO:google.auth.compute_engine._metadata:Compute Engine Metadata server call to universe/universe_domain returned 404, reason: <!DOCTYPE html>\n",
      "<html lang=en>\n",
      "  <meta charset=utf-8>\n",
      "  <meta name=viewport content=\"initial-scale=1, minimum-scale=1, width=device-width\">\n",
      "  <title>Error 404 (Not Found)!!1</title>\n",
      "  <style>\n",
      "    *{margin:0;padding:0}html,code{font:15px/22px arial,sans-serif}html{background:#fff;color:#222;padding:15px}body{margin:7% auto 0;max-width:390px;min-height:180px;padding:30px 0 15px}* > body{background:url(//www.google.com/images/errors/robot.png) 100% 5px no-repeat;padding-right:205px}p{margin:11px 0 22px;overflow:hidden}ins{color:#777;text-decoration:none}a img{border:0}@media screen and (max-width:772px){body{background:none;margin-top:0;max-width:none;padding-right:0}}#logo{background:url(//www.google.com/images/branding/googlelogo/1x/googlelogo_color_150x54dp.png) no-repeat;margin-left:-5px}@media only screen and (min-resolution:192dpi){#logo{background:url(//www.google.com/images/branding/googlelogo/2x/googlelogo_color_150x54dp.png) no-repeat 0% 0%/100% 100%;-moz-border-image:url(//www.google.com/images/branding/googlelogo/2x/googlelogo_color_150x54dp.png) 0}}@media only screen and (-webkit-min-device-pixel-ratio:2){#logo{background:url(//www.google.com/images/branding/googlelogo/2x/googlelogo_color_150x54dp.png) no-repeat;-webkit-background-size:100% 100%}}#logo{display:inline-block;height:54px;width:150px}\n",
      "  </style>\n",
      "  <a href=//www.google.com/><span id=logo aria-label=Google></span></a>\n",
      "  <p><b>404.</b> <ins>That’s an error.</ins>\n",
      "  <p>The requested URL <code>/computeMetadata/v1/universe/universe_domain</code> was not found on this server.  <ins>That’s all we know.</ins>\n",
      "\n",
      "INFO:google.auth.compute_engine._metadata:Compute Engine Metadata server call to universe/universe_domain returned 404, reason: <!DOCTYPE html>\n",
      "<html lang=en>\n",
      "  <meta charset=utf-8>\n",
      "  <meta name=viewport content=\"initial-scale=1, minimum-scale=1, width=device-width\">\n",
      "  <title>Error 404 (Not Found)!!1</title>\n",
      "  <style>\n",
      "    *{margin:0;padding:0}html,code{font:15px/22px arial,sans-serif}html{background:#fff;color:#222;padding:15px}body{margin:7% auto 0;max-width:390px;min-height:180px;padding:30px 0 15px}* > body{background:url(//www.google.com/images/errors/robot.png) 100% 5px no-repeat;padding-right:205px}p{margin:11px 0 22px;overflow:hidden}ins{color:#777;text-decoration:none}a img{border:0}@media screen and (max-width:772px){body{background:none;margin-top:0;max-width:none;padding-right:0}}#logo{background:url(//www.google.com/images/branding/googlelogo/1x/googlelogo_color_150x54dp.png) no-repeat;margin-left:-5px}@media only screen and (min-resolution:192dpi){#logo{background:url(//www.google.com/images/branding/googlelogo/2x/googlelogo_color_150x54dp.png) no-repeat 0% 0%/100% 100%;-moz-border-image:url(//www.google.com/images/branding/googlelogo/2x/googlelogo_color_150x54dp.png) 0}}@media only screen and (-webkit-min-device-pixel-ratio:2){#logo{background:url(//www.google.com/images/branding/googlelogo/2x/googlelogo_color_150x54dp.png) no-repeat;-webkit-background-size:100% 100%}}#logo{display:inline-block;height:54px;width:150px}\n",
      "  </style>\n",
      "  <a href=//www.google.com/><span id=logo aria-label=Google></span></a>\n",
      "  <p><b>404.</b> <ins>That’s an error.</ins>\n",
      "  <p>The requested URL <code>/computeMetadata/v1/universe/universe_domain</code> was not found on this server.  <ins>That’s all we know.</ins>\n",
      "\n"
     ]
    }
   ],
   "source": [
    "me_utils = MatchingEngineUtils(PROJECT_ID, REGION, ME_INDEX_NAME)\n",
    "\n",
    "# Get Matching Engine Index id and Endpoint id\n",
    "ME_INDEX_ID, ME_INDEX_ENDPOINT_ID = me_utils.get_index_and_endpoint()\n",
    "\n",
    "# Create Text Embedding\n",
    "embeddings = VertexAIEmbeddings(\n",
    "    model_name=\"textembedding-gecko@003\",\n",
    "    project=PROJECT_ID,\n",
    "    location=REGION,\n",
    "    max_retries=6\n",
    ")\n",
    "\n",
    "# Initialize vector store\n",
    "me = MatchingEngine.from_components(\n",
    "    project_id=PROJECT_ID,\n",
    "    region=REGION,\n",
    "    gcs_bucket_name=f\"gs://{ME_EMBEDDING_GCS_DIR}\".split(\"/\")[2],\n",
    "    embedding=embeddings,\n",
    "    index_id=ME_INDEX_ID,\n",
    "    endpoint_id=ME_INDEX_ENDPOINT_ID,\n",
    ")"
   ]
  },
  {
   "cell_type": "code",
   "execution_count": 31,
   "id": "97283c98-dbe8-4169-bb2f-2a61adbf4d91",
   "metadata": {
    "tags": []
   },
   "outputs": [
    {
     "name": "stdout",
     "output_type": "stream",
     "text": [
      "The type of information in this entry is observation. The status for this observation is final. The category of this observation is Survey. The code for this observation is Total score [AUDIT-C]. This observation was effective date time on 08/26/2015 at 18:20:41. This observation was issued on 08/26/2015 at 18:20:41. The value quantity for this observation is 0 {score}.\n",
      "Metadata={'fhir_patient_id': '7dd2724f-7108-d053-5468-6663262b170b', 'fhir_resource_id': 'e778aad6-7761-0408-1f2b-58ef4113bd0d', 'fhir_resource_type': 'Observation', 'neo4j_node_id': '4:dfafac18-9f37-43c7-a973-b308f9812678:7452', 'score': 0.7911237478256226}\n",
      "\n",
      "The type of information in this entry is observation. The status for this observation is final. The category of this observation is Survey. The code for this observation is Total score [AUDIT-C]. This observation was effective date time on 01/12/2017 at 18:55:46. This observation was issued on 01/12/2017 at 18:55:46. The value quantity for this observation is 0 {score}.\n",
      "Metadata={'fhir_patient_id': '009557a2-0f3a-43da-c71b-4410d466b696', 'fhir_resource_id': 'f98c57d1-4b47-dc5e-e0a0-87627d98fb90', 'fhir_resource_type': 'Observation', 'neo4j_node_id': '4:dfafac18-9f37-43c7-a973-b308f9812678:9857', 'score': 0.7897742986679077}\n",
      "\n",
      "The type of information in this entry is observation. The status for this observation is final. The category of this observation is Survey. The code for this observation is Total score [AUDIT-C]. This observation was effective date time on 04/04/2015 at 07:23:58. This observation was issued on 04/04/2015 at 07:23:58. The value quantity for this observation is 1 {score}.\n",
      "Metadata={'fhir_patient_id': '9d8f8194-a7a5-b8a5-8d7b-a14e5fa7ba3c', 'fhir_resource_id': '5ed73c5e-6d5e-9f4a-ff26-6e1245505ec3', 'fhir_resource_type': 'Observation', 'neo4j_node_id': '4:dfafac18-9f37-43c7-a973-b308f9812678:995', 'score': 0.7884472608566284}\n",
      "\n",
      "The type of information in this entry is observation. The status for this observation is final. The category of this observation is Survey. The code for this observation is Total score [AUDIT-C]. This observation was effective date time on 04/04/2015 at 07:23:58. This observation was issued on 04/04/2015 at 07:23:58. The value quantity for this observation is 1 {score}.\n",
      "Metadata={'fhir_patient_id': '9d8f8194-a7a5-b8a5-8d7b-a14e5fa7ba3c', 'fhir_resource_id': '5ed73c5e-6d5e-9f4a-ff26-6e1245505ec3', 'fhir_resource_type': 'Observation', 'neo4j_node_id': '4:dfafac18-9f37-43c7-a973-b308f9812678:995', 'score': 0.7884472608566284}\n",
      "\n",
      "The type of information in this entry is observation. The status for this observation is final. The category of this observation is Survey. The code for this observation is Total score [AUDIT-C]. This observation was effective date time on 06/28/2016 at 03:13:34. This observation was issued on 06/28/2016 at 03:13:34. The value quantity for this observation is 0 {score}.\n",
      "Metadata={'fhir_patient_id': 'f48a4185-564f-fac4-f63f-bd7ec3a7c523', 'fhir_resource_id': '093d7718-4fa6-e554-6994-757feee3af8e', 'fhir_resource_type': 'Observation', 'neo4j_node_id': '4:dfafac18-9f37-43c7-a973-b308f9812678:5250', 'score': 0.7876677513122559}\n",
      "\n"
     ]
    }
   ],
   "source": [
    "# Test Vector Search Retrieval\n",
    "text = \"What can you tell me about Alina705's claim created on 2007-03-17?\"\n",
    "docs = me.similarity_search(text, k=5)\n",
    "\n",
    "for doc in docs: \n",
    "    print(f'{doc.page_content}\\nMetadata={doc.metadata}\\n')\n",
    "    "
   ]
  },
  {
   "cell_type": "markdown",
   "id": "1988b401-d708-4909-9c2d-fc5f268c26e5",
   "metadata": {},
   "source": [
    "---\n",
    "## Preparing LLM Input: Prompts, Questions, Model\n",
    "This section covers the design of LangChain Prompt Templates, User questions for LLM , and the choice of the LLM model for task execution"
   ]
  },
  {
   "cell_type": "markdown",
   "id": "d31aada8-bd70-42bd-a7b6-863b0458ac30",
   "metadata": {},
   "source": [
    "### Prompt Design\n",
    "\n",
    "This cell defines the prompt template used to interact with the LLM. Try different prompts to see how they influence the LLM's output."
   ]
  },
  {
   "cell_type": "code",
   "execution_count": 32,
   "id": "6916cc74-c3ff-4bc9-abd0-82d90256b978",
   "metadata": {
    "tags": []
   },
   "outputs": [],
   "source": [
    "default_prompt='''\n",
    "System: Use the following pieces of context to answer the user's question. \n",
    "If you don't know the answer, just say that you don't know, don't try to make up an answer.\n",
    "----------------\n",
    "{context}\n",
    "Human: {question}\n",
    "'''\n",
    "\n",
    "my_prompt='''\n",
    "System: The following information contains entries about the patient. \n",
    "Use the primary entry and then the secondary entries to answer the user's question.\n",
    "Each entry is its own type of data and secondary entries are supporting data for the primary one. \n",
    "You should restrict your answer to using the information in the entries provided. \n",
    "\n",
    "If you don't know the answer, just say that you don't know, don't try to make up an answer.\n",
    "----------------\n",
    "{context}\n",
    "----------------\n",
    "User: {question}\n",
    "'''\n",
    "\n",
    "my_prompt_2='''\n",
    "System: The context below contains entries about the patient's healthcare. \n",
    "Please limit your answer to the information provided in the context. Do not make up facts.\n",
    "Please limit your answers only about the patient in the user question. If you do not find the patient name in the context.\n",
    "If you don't know the answer, just say that you don't know, don't try to make up an answer.\n",
    "If you are asked about the patient's name and one the entries is of type patient, you should look for the first given name and family name and answer with: [given] [family]\n",
    "----------------\n",
    "{context}\n",
    "Human: {question}\n",
    "'''\n",
    "\n",
    "prompt = PromptTemplate.from_template(my_prompt_2)"
   ]
  },
  {
   "cell_type": "markdown",
   "id": "9ed268fa-c1b7-4c7a-8669-5d53d40a0e67",
   "metadata": {},
   "source": [
    "### Define User Questions"
   ]
  },
  {
   "cell_type": "code",
   "execution_count": 33,
   "id": "c6e2bbef-fdb4-42a3-ba7a-a816cac1594e",
   "metadata": {
    "tags": []
   },
   "outputs": [],
   "source": [
    "# question = \"What can you tell me about Alfonso's claim created on 03/06/1977?\"\n",
    "# question = \"What can you tell me about the medical claim created on 03/06/1977?\"\n",
    "# question = \"Based on this explanation of benefits, how much did it cost and what service was provided?\"\n",
    "# question = \"Based on this explanation of benefits created on July 15, 2016, how much did it cost and what service was provided?\"\n",
    "# question = \"Based on this explanation of benefits created on March 6, 1978, how much did it cost and what service was provided?\"\n",
    "# question = \"Based on this explanation of benefits created on January 11, 2009, how much did it cost and what service was provided?\"\n",
    "# question = \"What was the blood pressure on 2/9/2014?\"\n",
    "# question = \"What was the blood pressure?\"\n",
    "# question = \"Based on this explanation of benefits created on January 18, 2014, how much did it cost and what service was provided?\"\n",
    "# question = \"How much did the colon scan eighteen days after the first of the year 2019 cost?\"\n",
    "# question = \"How much did the medical reconciliation on Dec. 29, 2023 cost?\"\n",
    "# question = \"What can you tell me about Andrea7's claim created on 12/25/2003?\"\n",
    "\n",
    "# question = \"What can you tell me about claim created on 12/25/2003?\"\n",
    "question = \"What allergies does Antone63 have?\""
   ]
  },
  {
   "cell_type": "markdown",
   "id": "12d2b5a7-39a1-451d-a074-2a8bf5e99cf3",
   "metadata": {
    "tags": []
   },
   "source": [
    "---\n",
    "## Testing Without RAG"
   ]
  },
  {
   "cell_type": "markdown",
   "id": "5610c055-15dd-4249-8be8-c48cf4b838d4",
   "metadata": {},
   "source": [
    "The LLM would not be able to answer since it does not have the context. \n",
    "<br>Context is the Private User/Organization Data. FHIR Data in this example."
   ]
  },
  {
   "cell_type": "code",
   "execution_count": 34,
   "id": "620d639d-f09b-4e80-83e2-333c60c1dba5",
   "metadata": {
    "tags": []
   },
   "outputs": [
    {
     "name": "stdout",
     "output_type": "stream",
     "text": [
      "Antone63 has not mentioned any allergies in their profile or any of their posts.\n"
     ]
    }
   ],
   "source": [
    "llm = VertexAI(model_name=VERTEX_AI_MODEL_NAME)\n",
    "\n",
    "# Ask LLM the question\n",
    "no_rag_answer = llm(question)\n",
    "print(no_rag_answer)"
   ]
  },
  {
   "cell_type": "markdown",
   "id": "868c84ce-f603-41d7-99c8-cfe199872542",
   "metadata": {},
   "source": [
    "## Testing with RAG - Ask the LLM with Context\n",
    "\n",
    "This cell will ask the LLM with the string representation of the resource node that is found by the vector index."
   ]
  },
  {
   "cell_type": "code",
   "execution_count": 35,
   "id": "000cefbf-c8b4-44c1-8057-d98e22559608",
   "metadata": {
    "tags": []
   },
   "outputs": [
    {
     "data": {
      "text/plain": [
       "'What allergies does Antone63 have?'"
      ]
     },
     "execution_count": 35,
     "metadata": {},
     "output_type": "execute_result"
    }
   ],
   "source": [
    "question"
   ]
  },
  {
   "cell_type": "code",
   "execution_count": 36,
   "id": "ec793d38-8756-478a-9f96-7399e6211889",
   "metadata": {
    "tags": []
   },
   "outputs": [],
   "source": [
    "# Create chain to answer questions\n",
    "NUMBER_OF_RESULTS = 20\n",
    "SEARCH_DISTANCE_THRESHOLD = 0.7\n",
    "\n",
    "# Expose index to the retriever\n",
    "retriever = me.as_retriever(\n",
    "    search_type=\"similarity\",\n",
    "    search_kwargs={\n",
    "        \"k\": NUMBER_OF_RESULTS,\n",
    "        \"search_distance\": SEARCH_DISTANCE_THRESHOLD,\n",
    "    },\n",
    ")"
   ]
  },
  {
   "cell_type": "code",
   "execution_count": 37,
   "id": "51449911-c294-47fe-a95f-13ff5647403a",
   "metadata": {
    "tags": []
   },
   "outputs": [
    {
     "name": "stdout",
     "output_type": "stream",
     "text": [
      "\n",
      "\n",
      "\u001b[1m> Entering new RetrievalQA chain...\u001b[0m\n",
      "\n",
      "\u001b[1m> Finished chain.\u001b[0m\n",
      "('I cannot answer this question because the name Antone63 is not found in the '\n",
      " 'context.')\n"
     ]
    }
   ],
   "source": [
    "vector_qa = RetrievalQA.from_chain_type(\n",
    "    llm=ChatVertexAI(model_name=VERTEX_AI_MODEL_NAME),\n",
    "    chain_type='stuff',\n",
    "    retriever=retriever,\n",
    "    # return_source_documents=True,\n",
    "    verbose=True,\n",
    "    chain_type_kwargs={\"verbose\": False, \"prompt\": prompt}\n",
    ")\n",
    "\n",
    "pprint(vector_qa.run(question))"
   ]
  },
  {
   "cell_type": "markdown",
   "id": "0c0d1392-eed3-4f28-aa1a-7a96e1583fd4",
   "metadata": {},
   "source": [
    "### Cons of this approach\n",
    "- The Vector Search similarity search fetches all matching Resource Types.\n",
    "- However, the context does not include the Patients name for the retrieved Resources.\n",
    "- Hence the LLM might summarize and extract the information from the context, but the Resources might not belong to a Patient in question.\n",
    "- Sometimes the LLM responds \"The context does not mention any patient\"."
   ]
  },
  {
   "cell_type": "markdown",
   "id": "8887ca35-5c02-4ade-826d-a22b7711e1e1",
   "metadata": {},
   "source": [
    "## Testing with RAG - Ask the LLM with Enhanced Context"
   ]
  },
  {
   "cell_type": "markdown",
   "id": "00b0b64e-942b-4fa7-a212-f9c7284c2c9e",
   "metadata": {},
   "source": [
    "***Providing Context to the LLM***\n",
    "\n",
    "We enrich the LLM's understanding by fetching text from linked resource nodes.\n",
    "\n",
    "***Steps:***\n",
    "- *Similarity Search:* Identify a matching resource's Neo4J Node ID in the Vector Search database.\n",
    "- *Fetch Related Resources:* Query all nodes connected to the matching resource.\n",
    "- *Concatenate Text:* Combine the text from all retrieved nodes to provide comprehensive context."
   ]
  },
  {
   "cell_type": "markdown",
   "id": "8a844df6-379c-49f1-af86-a150ca3efe40",
   "metadata": {},
   "source": [
    "### Create a new Vector Search Index"
   ]
  },
  {
   "cell_type": "code",
   "execution_count": 38,
   "id": "10c1b0ad-cb0f-426e-b6c0-67683b509895",
   "metadata": {
    "tags": []
   },
   "outputs": [
    {
     "name": "stdout",
     "output_type": "stream",
     "text": [
      "+ gsutil mb -p propane-crawler-363311 -l us-central1 gs://propane-crawler-363311-me-bucket_enhanced\n",
      "Creating gs://propane-crawler-363311-me-bucket_enhanced/...\n",
      "ServiceException: 409 A Cloud Storage bucket named 'propane-crawler-363311-me-bucket_enhanced' already exists. Try another name. Bucket names must be globally unique across all Google Cloud projects, including those outside of your organization.\n"
     ]
    }
   ],
   "source": [
    "# Create GCS Bucket for the new Enhanced Vector Search Index\n",
    "! set -x && gsutil mb -p $PROJECT_ID -l $REGION gs://$ME_ENHANCED_EMBEDDING_GCS_DIR"
   ]
  },
  {
   "cell_type": "code",
   "execution_count": 39,
   "id": "d77e3938-9435-4ba7-b0a1-36f6c201b04d",
   "metadata": {
    "tags": []
   },
   "outputs": [
    {
     "name": "stderr",
     "output_type": "stream",
     "text": [
      "INFO:google.auth.compute_engine._metadata:Compute Engine Metadata server call to universe/universe_domain returned 404, reason: <!DOCTYPE html>\n",
      "<html lang=en>\n",
      "  <meta charset=utf-8>\n",
      "  <meta name=viewport content=\"initial-scale=1, minimum-scale=1, width=device-width\">\n",
      "  <title>Error 404 (Not Found)!!1</title>\n",
      "  <style>\n",
      "    *{margin:0;padding:0}html,code{font:15px/22px arial,sans-serif}html{background:#fff;color:#222;padding:15px}body{margin:7% auto 0;max-width:390px;min-height:180px;padding:30px 0 15px}* > body{background:url(//www.google.com/images/errors/robot.png) 100% 5px no-repeat;padding-right:205px}p{margin:11px 0 22px;overflow:hidden}ins{color:#777;text-decoration:none}a img{border:0}@media screen and (max-width:772px){body{background:none;margin-top:0;max-width:none;padding-right:0}}#logo{background:url(//www.google.com/images/branding/googlelogo/1x/googlelogo_color_150x54dp.png) no-repeat;margin-left:-5px}@media only screen and (min-resolution:192dpi){#logo{background:url(//www.google.com/images/branding/googlelogo/2x/googlelogo_color_150x54dp.png) no-repeat 0% 0%/100% 100%;-moz-border-image:url(//www.google.com/images/branding/googlelogo/2x/googlelogo_color_150x54dp.png) 0}}@media only screen and (-webkit-min-device-pixel-ratio:2){#logo{background:url(//www.google.com/images/branding/googlelogo/2x/googlelogo_color_150x54dp.png) no-repeat;-webkit-background-size:100% 100%}}#logo{display:inline-block;height:54px;width:150px}\n",
      "  </style>\n",
      "  <a href=//www.google.com/><span id=logo aria-label=Google></span></a>\n",
      "  <p><b>404.</b> <ins>That’s an error.</ins>\n",
      "  <p>The requested URL <code>/computeMetadata/v1/universe/universe_domain</code> was not found on this server.  <ins>That’s all we know.</ins>\n",
      "\n",
      "INFO:root:Index fhir_me_index_enhanced already exists with id projects/884766917846/locations/us-central1/indexes/8972459085349781504\n"
     ]
    }
   ],
   "source": [
    "# Create a new Vector Search Index for Enhanced Context\n",
    "me_utils_enhanced = MatchingEngineUtils(PROJECT_ID, REGION, ME_ENHANCED_CONTEXT_INDEX_NAME)\n",
    "\n",
    "me_index_enhanced = me_utils_enhanced.create_index(\n",
    "    embedding_gcs_uri=f'gs://{ME_ENHANCED_EMBEDDING_GCS_DIR}/init_index',\n",
    "    dimensions=ME_DIMENSIONS,\n",
    "    index_update_method='streaming',\n",
    "    index_algorithm='tree-ah',\n",
    "    shard_size= ME_SHARD_SIZE,\n",
    "    distance_measure_type=ME_DISTANCE_MEASURE_TYPE,\n",
    "    description=ME_ENHANCED_DESCRIPTION\n",
    ")\n",
    "\n",
    "# me_index_enhanced"
   ]
  },
  {
   "cell_type": "code",
   "execution_count": 40,
   "id": "08d46345-01f6-45a3-b177-dc6a5438abbc",
   "metadata": {
    "tags": []
   },
   "outputs": [
    {
     "name": "stdout",
     "output_type": "stream",
     "text": [
      "Index Details:\n",
      "- Index Name = projects/884766917846/locations/us-central1/indexes/8972459085349781504\n",
      "- Update Method = STREAM_UPDATE\n",
      "- Dimensions = 768.0\n",
      "- Shard Size = SHARD_SIZE_SMALL\n",
      "- Distance Measure Type = DOT_PRODUCT_DISTANCE\n",
      "- Algorithm = treeAhConfig\n"
     ]
    }
   ],
   "source": [
    "# Get information about the Index\n",
    "if me_index_enhanced:\n",
    "    index_metadata = MessageToDict(me_index_enhanced._pb)\n",
    "    print('Index Details:')\n",
    "    print(f'- Index Name = {index_metadata[\"name\"]}')\n",
    "    print(f'- Update Method = {index_metadata[\"indexUpdateMethod\"]}')\n",
    "    print(f'- Dimensions = {index_metadata[\"metadata\"][\"config\"][\"dimensions\"]}')\n",
    "    print(f'- Shard Size = {index_metadata[\"metadata\"][\"config\"][\"shardSize\"]}')\n",
    "    print(f'- Distance Measure Type = {index_metadata[\"metadata\"][\"config\"][\"distanceMeasureType\"]}')\n",
    "    algorithm = list(index_metadata[\"metadata\"][\"config\"]['algorithmConfig'].keys())[0]\n",
    "    print(f'- Algorithm = {algorithm}')\n",
    "    # print(f'- Index Stats = {index_metadata[\"indexStats\"]}')\n",
    "\n",
    "# index_metadata"
   ]
  },
  {
   "cell_type": "code",
   "execution_count": 41,
   "id": "f595b6cb-de6f-4ca6-8b59-f4ee65a90e15",
   "metadata": {
    "tags": []
   },
   "outputs": [
    {
     "name": "stderr",
     "output_type": "stream",
     "text": [
      "INFO:google.auth.compute_engine._metadata:Compute Engine Metadata server call to universe/universe_domain returned 404, reason: <!DOCTYPE html>\n",
      "<html lang=en>\n",
      "  <meta charset=utf-8>\n",
      "  <meta name=viewport content=\"initial-scale=1, minimum-scale=1, width=device-width\">\n",
      "  <title>Error 404 (Not Found)!!1</title>\n",
      "  <style>\n",
      "    *{margin:0;padding:0}html,code{font:15px/22px arial,sans-serif}html{background:#fff;color:#222;padding:15px}body{margin:7% auto 0;max-width:390px;min-height:180px;padding:30px 0 15px}* > body{background:url(//www.google.com/images/errors/robot.png) 100% 5px no-repeat;padding-right:205px}p{margin:11px 0 22px;overflow:hidden}ins{color:#777;text-decoration:none}a img{border:0}@media screen and (max-width:772px){body{background:none;margin-top:0;max-width:none;padding-right:0}}#logo{background:url(//www.google.com/images/branding/googlelogo/1x/googlelogo_color_150x54dp.png) no-repeat;margin-left:-5px}@media only screen and (min-resolution:192dpi){#logo{background:url(//www.google.com/images/branding/googlelogo/2x/googlelogo_color_150x54dp.png) no-repeat 0% 0%/100% 100%;-moz-border-image:url(//www.google.com/images/branding/googlelogo/2x/googlelogo_color_150x54dp.png) 0}}@media only screen and (-webkit-min-device-pixel-ratio:2){#logo{background:url(//www.google.com/images/branding/googlelogo/2x/googlelogo_color_150x54dp.png) no-repeat;-webkit-background-size:100% 100%}}#logo{display:inline-block;height:54px;width:150px}\n",
      "  </style>\n",
      "  <a href=//www.google.com/><span id=logo aria-label=Google></span></a>\n",
      "  <p><b>404.</b> <ins>That’s an error.</ins>\n",
      "  <p>The requested URL <code>/computeMetadata/v1/universe/universe_domain</code> was not found on this server.  <ins>That’s all we know.</ins>\n",
      "\n",
      "INFO:root:Index endpoint fhir_me_index_enhanced-endpoint already exists with resource name as projects/884766917846/locations/us-central1/indexEndpoints/945918649468715008 and endpoint domain name as 331313656.us-central1-884766917846.vdb.vertexai.goog\n",
      "INFO:root:Skipping deploying Index. Index fhir_me_index_enhancedalready deployed with id projects/884766917846/locations/us-central1/indexes/8972459085349781504 to the index endpoint fhir_me_index_enhanced-endpoint\n"
     ]
    }
   ],
   "source": [
    "me_endpoint_enhanced = me_utils_enhanced.deploy_index(\n",
    "    machine_type=ME_ENDPOINT_MACHINE_TYPE,\n",
    "    min_replica_count=ME_ENDPOINT_MIN_REPLICA_COUNT,\n",
    "    max_replica_count=ME_ENDPOINT_MAX_REPLICA_COUNT,\n",
    "    public_endpoint_enabled=True\n",
    ")"
   ]
  },
  {
   "cell_type": "code",
   "execution_count": 42,
   "id": "e9a4349a-6ff6-4227-b188-3c5b092e0469",
   "metadata": {
    "tags": []
   },
   "outputs": [
    {
     "name": "stderr",
     "output_type": "stream",
     "text": [
      "INFO:google.auth.compute_engine._metadata:Compute Engine Metadata server call to universe/universe_domain returned 404, reason: <!DOCTYPE html>\n",
      "<html lang=en>\n",
      "  <meta charset=utf-8>\n",
      "  <meta name=viewport content=\"initial-scale=1, minimum-scale=1, width=device-width\">\n",
      "  <title>Error 404 (Not Found)!!1</title>\n",
      "  <style>\n",
      "    *{margin:0;padding:0}html,code{font:15px/22px arial,sans-serif}html{background:#fff;color:#222;padding:15px}body{margin:7% auto 0;max-width:390px;min-height:180px;padding:30px 0 15px}* > body{background:url(//www.google.com/images/errors/robot.png) 100% 5px no-repeat;padding-right:205px}p{margin:11px 0 22px;overflow:hidden}ins{color:#777;text-decoration:none}a img{border:0}@media screen and (max-width:772px){body{background:none;margin-top:0;max-width:none;padding-right:0}}#logo{background:url(//www.google.com/images/branding/googlelogo/1x/googlelogo_color_150x54dp.png) no-repeat;margin-left:-5px}@media only screen and (min-resolution:192dpi){#logo{background:url(//www.google.com/images/branding/googlelogo/2x/googlelogo_color_150x54dp.png) no-repeat 0% 0%/100% 100%;-moz-border-image:url(//www.google.com/images/branding/googlelogo/2x/googlelogo_color_150x54dp.png) 0}}@media only screen and (-webkit-min-device-pixel-ratio:2){#logo{background:url(//www.google.com/images/branding/googlelogo/2x/googlelogo_color_150x54dp.png) no-repeat;-webkit-background-size:100% 100%}}#logo{display:inline-block;height:54px;width:150px}\n",
      "  </style>\n",
      "  <a href=//www.google.com/><span id=logo aria-label=Google></span></a>\n",
      "  <p><b>404.</b> <ins>That’s an error.</ins>\n",
      "  <p>The requested URL <code>/computeMetadata/v1/universe/universe_domain</code> was not found on this server.  <ins>That’s all we know.</ins>\n",
      "\n",
      "INFO:google.auth.compute_engine._metadata:Compute Engine Metadata server call to universe/universe_domain returned 404, reason: <!DOCTYPE html>\n",
      "<html lang=en>\n",
      "  <meta charset=utf-8>\n",
      "  <meta name=viewport content=\"initial-scale=1, minimum-scale=1, width=device-width\">\n",
      "  <title>Error 404 (Not Found)!!1</title>\n",
      "  <style>\n",
      "    *{margin:0;padding:0}html,code{font:15px/22px arial,sans-serif}html{background:#fff;color:#222;padding:15px}body{margin:7% auto 0;max-width:390px;min-height:180px;padding:30px 0 15px}* > body{background:url(//www.google.com/images/errors/robot.png) 100% 5px no-repeat;padding-right:205px}p{margin:11px 0 22px;overflow:hidden}ins{color:#777;text-decoration:none}a img{border:0}@media screen and (max-width:772px){body{background:none;margin-top:0;max-width:none;padding-right:0}}#logo{background:url(//www.google.com/images/branding/googlelogo/1x/googlelogo_color_150x54dp.png) no-repeat;margin-left:-5px}@media only screen and (min-resolution:192dpi){#logo{background:url(//www.google.com/images/branding/googlelogo/2x/googlelogo_color_150x54dp.png) no-repeat 0% 0%/100% 100%;-moz-border-image:url(//www.google.com/images/branding/googlelogo/2x/googlelogo_color_150x54dp.png) 0}}@media only screen and (-webkit-min-device-pixel-ratio:2){#logo{background:url(//www.google.com/images/branding/googlelogo/2x/googlelogo_color_150x54dp.png) no-repeat;-webkit-background-size:100% 100%}}#logo{display:inline-block;height:54px;width:150px}\n",
      "  </style>\n",
      "  <a href=//www.google.com/><span id=logo aria-label=Google></span></a>\n",
      "  <p><b>404.</b> <ins>That’s an error.</ins>\n",
      "  <p>The requested URL <code>/computeMetadata/v1/universe/universe_domain</code> was not found on this server.  <ins>That’s all we know.</ins>\n",
      "\n"
     ]
    },
    {
     "name": "stdout",
     "output_type": "stream",
     "text": [
      "ME_ENHANCED_INDEX_ID=projects/884766917846/locations/us-central1/indexes/8972459085349781504\n",
      "ME_ENHANCED_INDEX_ENDPOINT_ID=projects/884766917846/locations/us-central1/indexEndpoints/945918649468715008\n"
     ]
    }
   ],
   "source": [
    "# Get Matching Engine Index id and Endpoint id\n",
    "me_utils_enhanced = MatchingEngineUtils(PROJECT_ID, REGION, ME_ENHANCED_CONTEXT_INDEX_NAME)\n",
    "ME_ENHANCED_INDEX_ID, ME_ENHANCED_INDEX_ENDPOINT_ID = me_utils_enhanced.get_index_and_endpoint()\n",
    "print(f\"ME_ENHANCED_INDEX_ID={ME_ENHANCED_INDEX_ID}\")\n",
    "print(f\"ME_ENHANCED_INDEX_ENDPOINT_ID={ME_ENHANCED_INDEX_ENDPOINT_ID}\")"
   ]
  },
  {
   "cell_type": "code",
   "execution_count": 43,
   "id": "d81b63b4-e5a8-4890-a592-211732a844c9",
   "metadata": {
    "tags": []
   },
   "outputs": [
    {
     "name": "stderr",
     "output_type": "stream",
     "text": [
      "INFO:google.auth.compute_engine._metadata:Compute Engine Metadata server call to universe/universe_domain returned 404, reason: <!DOCTYPE html>\n",
      "<html lang=en>\n",
      "  <meta charset=utf-8>\n",
      "  <meta name=viewport content=\"initial-scale=1, minimum-scale=1, width=device-width\">\n",
      "  <title>Error 404 (Not Found)!!1</title>\n",
      "  <style>\n",
      "    *{margin:0;padding:0}html,code{font:15px/22px arial,sans-serif}html{background:#fff;color:#222;padding:15px}body{margin:7% auto 0;max-width:390px;min-height:180px;padding:30px 0 15px}* > body{background:url(//www.google.com/images/errors/robot.png) 100% 5px no-repeat;padding-right:205px}p{margin:11px 0 22px;overflow:hidden}ins{color:#777;text-decoration:none}a img{border:0}@media screen and (max-width:772px){body{background:none;margin-top:0;max-width:none;padding-right:0}}#logo{background:url(//www.google.com/images/branding/googlelogo/1x/googlelogo_color_150x54dp.png) no-repeat;margin-left:-5px}@media only screen and (min-resolution:192dpi){#logo{background:url(//www.google.com/images/branding/googlelogo/2x/googlelogo_color_150x54dp.png) no-repeat 0% 0%/100% 100%;-moz-border-image:url(//www.google.com/images/branding/googlelogo/2x/googlelogo_color_150x54dp.png) 0}}@media only screen and (-webkit-min-device-pixel-ratio:2){#logo{background:url(//www.google.com/images/branding/googlelogo/2x/googlelogo_color_150x54dp.png) no-repeat;-webkit-background-size:100% 100%}}#logo{display:inline-block;height:54px;width:150px}\n",
      "  </style>\n",
      "  <a href=//www.google.com/><span id=logo aria-label=Google></span></a>\n",
      "  <p><b>404.</b> <ins>That’s an error.</ins>\n",
      "  <p>The requested URL <code>/computeMetadata/v1/universe/universe_domain</code> was not found on this server.  <ins>That’s all we know.</ins>\n",
      "\n"
     ]
    }
   ],
   "source": [
    "# Initialize vector store\n",
    "me_enhanced = MatchingEngine.from_components(\n",
    "    project_id=PROJECT_ID,\n",
    "    region=REGION,\n",
    "    gcs_bucket_name=f\"gs://{ME_ENHANCED_EMBEDDING_GCS_DIR}\".split(\"/\")[2],\n",
    "    embedding=embeddings,\n",
    "    index_id=ME_ENHANCED_INDEX_ID,\n",
    "    endpoint_id=ME_ENHANCED_INDEX_ENDPOINT_ID,\n",
    ")"
   ]
  },
  {
   "cell_type": "markdown",
   "id": "6ae8f0be-df3f-44ff-856d-815e773c3615",
   "metadata": {},
   "source": [
    "### Ingest Enhanced Context data to Vector Search"
   ]
  },
  {
   "cell_type": "markdown",
   "id": "0ef4dd86-8140-4ae9-8c97-9cfb7b0783f8",
   "metadata": {},
   "source": [
    "In the Cell below we are creating Embeddings of Resource Text and ingesting it into Vertex AI Vector Search.\n",
    "\n",
    "<div class=\"alert alert-block alert-warning\">\n",
    "<b>⚠️ Important: Below step will take few minutes to complete! ⚠️</b>\n",
    "</div>"
   ]
  },
  {
   "cell_type": "code",
   "execution_count": 44,
   "id": "db35044a-efce-4ec2-910c-6247004da4ba",
   "metadata": {
    "tags": []
   },
   "outputs": [
    {
     "name": "stdout",
     "output_type": "stream",
     "text": [
      "Set ingest_data to True to ingest data. Currently ingest_data=False\n"
     ]
    }
   ],
   "source": [
    "# Trigger Enhanced Context Data Ingestion to vector Search\n",
    "ingest_data = False\n",
    "\n",
    "if ingest_data:\n",
    "    create_embeddings_of_all_resource_text(me_enhanced, enhanced_context=True)\n",
    "else:\n",
    "    print(f'Set ingest_data to True to ingest data. Currently ingest_data={ingest_data}')"
   ]
  },
  {
   "cell_type": "markdown",
   "id": "bd850fcb-2609-4ecf-9e70-6fa63d3921da",
   "metadata": {},
   "source": [
    "### RAG with Enhanced Context"
   ]
  },
  {
   "cell_type": "code",
   "execution_count": 101,
   "id": "da9676b6-bd04-4839-b665-c4ffec235e05",
   "metadata": {
    "tags": []
   },
   "outputs": [
    {
     "data": {
      "text/plain": [
       "'What allergies does Antone63 have?'"
      ]
     },
     "execution_count": 101,
     "metadata": {},
     "output_type": "execute_result"
    }
   ],
   "source": [
    "# question = \"What procedure was performed on Antone63 on 2014-04-20?\"\n",
    "question"
   ]
  },
  {
   "cell_type": "code",
   "execution_count": 102,
   "id": "a10f4e11-c619-4dbf-840d-386e3ee5f360",
   "metadata": {
    "tags": []
   },
   "outputs": [],
   "source": [
    "# Create chain to answer questions\n",
    "NUMBER_OF_RESULTS = 10\n",
    "SEARCH_DISTANCE_THRESHOLD = 0.6\n",
    "\n",
    "# Expose index to the retriever\n",
    "retriever_enhanced = me_enhanced.as_retriever(\n",
    "    search_type=\"similarity\",\n",
    "    search_kwargs={\n",
    "        \"k\": NUMBER_OF_RESULTS,\n",
    "        \"search_distance\": SEARCH_DISTANCE_THRESHOLD,\n",
    "    },\n",
    ")"
   ]
  },
  {
   "cell_type": "code",
   "execution_count": 103,
   "id": "0f8c79e2-4f44-4064-ae6b-960ca981de98",
   "metadata": {
    "tags": []
   },
   "outputs": [
    {
     "name": "stdout",
     "output_type": "stream",
     "text": [
      "\n",
      "\n",
      "\u001b[1m> Entering new RetrievalQA chain...\u001b[0m\n",
      "\n",
      "\n",
      "\u001b[1m> Entering new StuffDocumentsChain chain...\u001b[0m\n",
      "\n",
      "\n",
      "\u001b[1m> Entering new LLMChain chain...\u001b[0m\n",
      "Prompt after formatting:\n",
      "\u001b[32;1m\u001b[1;3m\n",
      "System: The context below contains entries about the patient's healthcare. \n",
      "Please limit your answer to the information provided in the context. Do not make up facts.\n",
      "Please limit your answers only about the patient in the user question. If you do not find the patient name in the context.\n",
      "If you don't know the answer, just say that you don't know, don't try to make up an answer.\n",
      "If you are asked about the patient's name and one the entries is of type patient, you should look for the first given name and family name and answer with: [given] [family]\n",
      "----------------\n",
      "Primary Entry:\n",
      "The type of information in this entry is allergy intolerance. The clinical status for this allergy intolerance is active. The verification status for this allergy intolerance is confirmed. The type of this allergy intolerance is allergy. The category of this allergy intolerance is environment. The criticality for this allergy intolerance is low. The code for this allergy intolerance is Allergy to substance (finding). This allergy intolerance was recorded date on 01/21/1971 at 20:35:45.\n",
      "\n",
      "Secondary Entry:\n",
      "The type of information in this entry is patient. The name use for this patient is official. The name family for this patient is Kessler503. The name given 0 for this patient is Antone63. The name given 1 for this patient is Keven605. The name prefix for this patient is Mr.. The telecom system for this patient is phone. The telecom value for this patient is 555-571-5195. The telecom use for this patient is home. The gender for this patient is male. The birth date for this patient is 1970-01-21. The address line for this patient is 973 Nikolaus Viaduct. The address city for this patient is Plymouth. The address state for this patient is MA. The address postalCode for this patient is 02360. The address country for this patient is US. The marital status for this patient is Married. The multiple birth boolean for this patient is False. The communication language for this patient is English (United States).\n",
      "\n",
      "Primary Entry:\n",
      "The type of information in this entry is care team. The status for this care team is active. This care team was period start on 01/12/1971 at 04:35:45. The participant 0 member display for this care team is Mr. Antone63 Keven605 Kessler503. The participant 1 member display for this care team is Dr. Sulema841 Ryan260. The participant 2 member display for this care team is SOUTHCOAST HOSPITAL GROUP, INC. The managing organization display for this care team is SOUTHCOAST HOSPITAL GROUP, INC.\n",
      "\n",
      "Secondary Entry:\n",
      "The type of information in this entry is care plan. The status for this care plan is active. The intent for this care plan is order. The 1st category of this care plan is assess-plan. The 2nd category of this care plan is Self-care interventions (procedure). This care plan was period start on 01/12/1971 at 04:35:45. The activity 0 detail code for this care plan is Food allergy diet. The activity 0 detail status for this care plan is in-progress. The activity 1 detail code for this care plan is Allergy education. The activity 1 detail status for this care plan is in-progress.\n",
      "\n",
      "Secondary Entry:\n",
      "The type of information in this entry is patient. The name use for this patient is official. The name family for this patient is Kessler503. The name given 0 for this patient is Antone63. The name given 1 for this patient is Keven605. The name prefix for this patient is Mr.. The telecom system for this patient is phone. The telecom value for this patient is 555-571-5195. The telecom use for this patient is home. The gender for this patient is male. The birth date for this patient is 1970-01-21. The address line for this patient is 973 Nikolaus Viaduct. The address city for this patient is Plymouth. The address state for this patient is MA. The address postalCode for this patient is 02360. The address country for this patient is US. The marital status for this patient is Married. The multiple birth boolean for this patient is False. The communication language for this patient is English (United States).\n",
      "\n",
      "Secondary Entry:\n",
      "The type of information in this entry is encounter. The status for this encounter is finished. The class for this encounter is AMB. The type of this encounter is Encounter for problem. The participant type of this encounter is primary performer. This encounter was participant period start on 01/12/1971 at 04:35:45. This encounter was participant period end on 01/12/1971 at 04:50:45. This encounter was period start on 01/12/1971 at 04:35:45. This encounter was period end on 01/12/1971 at 04:50:45. The reason code coding system for this encounter is http://snomed.info/sct. The reason code coding code for this encounter is 256355007. The reason code coding display for this encounter is Soy bean.\n",
      "\n",
      "Primary Entry:\n",
      "The type of information in this entry is allergy intolerance. The clinical status for this allergy intolerance is active. The verification status for this allergy intolerance is confirmed. The type of this allergy intolerance is allergy. The category of this allergy intolerance is medication. The criticality for this allergy intolerance is low. The code for this allergy intolerance is Aspirin. This allergy intolerance was recorded date on 01/21/1971 at 20:35:45. The 1st reaction manifestation of this allergy intolerance is Abdominal pain (finding). The 1st reaction severity for this allergy intolerance is moderate.\n",
      "\n",
      "Secondary Entry:\n",
      "The type of information in this entry is patient. The name use for this patient is official. The name family for this patient is Kessler503. The name given 0 for this patient is Antone63. The name given 1 for this patient is Keven605. The name prefix for this patient is Mr.. The telecom system for this patient is phone. The telecom value for this patient is 555-571-5195. The telecom use for this patient is home. The gender for this patient is male. The birth date for this patient is 1970-01-21. The address line for this patient is 973 Nikolaus Viaduct. The address city for this patient is Plymouth. The address state for this patient is MA. The address postalCode for this patient is 02360. The address country for this patient is US. The marital status for this patient is Married. The multiple birth boolean for this patient is False. The communication language for this patient is English (United States).\n",
      "\n",
      "Primary Entry:\n",
      "The type of information in this entry is care plan. The status for this care plan is active. The intent for this care plan is order. The 1st category of this care plan is assess-plan. The 2nd category of this care plan is Self-care interventions (procedure). This care plan was period start on 01/12/1971 at 04:35:45. The activity 0 detail code for this care plan is Food allergy diet. The activity 0 detail status for this care plan is in-progress. The activity 1 detail code for this care plan is Allergy education. The activity 1 detail status for this care plan is in-progress.\n",
      "\n",
      "Secondary Entry:\n",
      "The type of information in this entry is care team. The status for this care team is active. This care team was period start on 01/12/1971 at 04:35:45. The participant 0 member display for this care team is Mr. Antone63 Keven605 Kessler503. The participant 1 member display for this care team is Dr. Sulema841 Ryan260. The participant 2 member display for this care team is SOUTHCOAST HOSPITAL GROUP, INC. The managing organization display for this care team is SOUTHCOAST HOSPITAL GROUP, INC.\n",
      "\n",
      "Secondary Entry:\n",
      "The type of information in this entry is encounter. The status for this encounter is finished. The class for this encounter is AMB. The type of this encounter is Encounter for problem. The participant type of this encounter is primary performer. This encounter was participant period start on 01/12/1971 at 04:35:45. This encounter was participant period end on 01/12/1971 at 04:50:45. This encounter was period start on 01/12/1971 at 04:35:45. This encounter was period end on 01/12/1971 at 04:50:45. The reason code coding system for this encounter is http://snomed.info/sct. The reason code coding code for this encounter is 256355007. The reason code coding display for this encounter is Soy bean.\n",
      "\n",
      "Secondary Entry:\n",
      "The type of information in this entry is patient. The name use for this patient is official. The name family for this patient is Kessler503. The name given 0 for this patient is Antone63. The name given 1 for this patient is Keven605. The name prefix for this patient is Mr.. The telecom system for this patient is phone. The telecom value for this patient is 555-571-5195. The telecom use for this patient is home. The gender for this patient is male. The birth date for this patient is 1970-01-21. The address line for this patient is 973 Nikolaus Viaduct. The address city for this patient is Plymouth. The address state for this patient is MA. The address postalCode for this patient is 02360. The address country for this patient is US. The marital status for this patient is Married. The multiple birth boolean for this patient is False. The communication language for this patient is English (United States).\n",
      "\n",
      "Primary Entry:\n",
      "The type of information in this entry is allergy intolerance. The clinical status for this allergy intolerance is active. The verification status for this allergy intolerance is confirmed. The type of this allergy intolerance is allergy. The category of this allergy intolerance is environment. The criticality for this allergy intolerance is low. The code for this allergy intolerance is Mold (organism). This allergy intolerance was recorded date on 01/21/1971 at 20:35:45. The 1st reaction manifestation of this allergy intolerance is Allergic skin rash. The 1st reaction severity for this allergy intolerance is mild.\n",
      "\n",
      "Secondary Entry:\n",
      "The type of information in this entry is patient. The name use for this patient is official. The name family for this patient is Kessler503. The name given 0 for this patient is Antone63. The name given 1 for this patient is Keven605. The name prefix for this patient is Mr.. The telecom system for this patient is phone. The telecom value for this patient is 555-571-5195. The telecom use for this patient is home. The gender for this patient is male. The birth date for this patient is 1970-01-21. The address line for this patient is 973 Nikolaus Viaduct. The address city for this patient is Plymouth. The address state for this patient is MA. The address postalCode for this patient is 02360. The address country for this patient is US. The marital status for this patient is Married. The multiple birth boolean for this patient is False. The communication language for this patient is English (United States).\n",
      "\n",
      "Primary Entry:\n",
      "The type of information in this entry is allergy intolerance. The clinical status for this allergy intolerance is active. The verification status for this allergy intolerance is confirmed. The type of this allergy intolerance is allergy. The category of this allergy intolerance is environment. The criticality for this allergy intolerance is low. The code for this allergy intolerance is Grass pollen (substance). This allergy intolerance was recorded date on 01/21/1971 at 20:35:45.\n",
      "\n",
      "Secondary Entry:\n",
      "The type of information in this entry is patient. The name use for this patient is official. The name family for this patient is Kessler503. The name given 0 for this patient is Antone63. The name given 1 for this patient is Keven605. The name prefix for this patient is Mr.. The telecom system for this patient is phone. The telecom value for this patient is 555-571-5195. The telecom use for this patient is home. The gender for this patient is male. The birth date for this patient is 1970-01-21. The address line for this patient is 973 Nikolaus Viaduct. The address city for this patient is Plymouth. The address state for this patient is MA. The address postalCode for this patient is 02360. The address country for this patient is US. The marital status for this patient is Married. The multiple birth boolean for this patient is False. The communication language for this patient is English (United States).\n",
      "\n",
      "Primary Entry:\n",
      "The type of information in this entry is allergy intolerance. The clinical status for this allergy intolerance is active. The verification status for this allergy intolerance is confirmed. The type of this allergy intolerance is allergy. The category of this allergy intolerance is environment. The criticality for this allergy intolerance is low. The code for this allergy intolerance is Animal dander (substance). This allergy intolerance was recorded date on 01/21/1971 at 20:35:45. The 1st reaction manifestation of this allergy intolerance is Eruption of skin (disorder). The 1st reaction severity for this allergy intolerance is mild. The 2nd reaction manifestation of this allergy intolerance is Rhinoconjunctivitis (disorder). The 2nd reaction severity for this allergy intolerance is moderate.\n",
      "\n",
      "Secondary Entry:\n",
      "The type of information in this entry is patient. The name use for this patient is official. The name family for this patient is Kessler503. The name given 0 for this patient is Antone63. The name given 1 for this patient is Keven605. The name prefix for this patient is Mr.. The telecom system for this patient is phone. The telecom value for this patient is 555-571-5195. The telecom use for this patient is home. The gender for this patient is male. The birth date for this patient is 1970-01-21. The address line for this patient is 973 Nikolaus Viaduct. The address city for this patient is Plymouth. The address state for this patient is MA. The address postalCode for this patient is 02360. The address country for this patient is US. The marital status for this patient is Married. The multiple birth boolean for this patient is False. The communication language for this patient is English (United States).\n",
      "\n",
      "Primary Entry:\n",
      "The type of information in this entry is allergy intolerance. The clinical status for this allergy intolerance is active. The verification status for this allergy intolerance is confirmed. The type of this allergy intolerance is allergy. The category of this allergy intolerance is food. The criticality for this allergy intolerance is low. The code for this allergy intolerance is Soy bean. This allergy intolerance was recorded date on 01/21/1971 at 20:35:45. The 1st reaction manifestation of this allergy intolerance is Diarrhea (finding).\n",
      "\n",
      "Secondary Entry:\n",
      "The type of information in this entry is patient. The name use for this patient is official. The name family for this patient is Kessler503. The name given 0 for this patient is Antone63. The name given 1 for this patient is Keven605. The name prefix for this patient is Mr.. The telecom system for this patient is phone. The telecom value for this patient is 555-571-5195. The telecom use for this patient is home. The gender for this patient is male. The birth date for this patient is 1970-01-21. The address line for this patient is 973 Nikolaus Viaduct. The address city for this patient is Plymouth. The address state for this patient is MA. The address postalCode for this patient is 02360. The address country for this patient is US. The marital status for this patient is Married. The multiple birth boolean for this patient is False. The communication language for this patient is English (United States).\n",
      "\n",
      "Primary Entry:\n",
      "The type of information in this entry is allergy intolerance. The clinical status for this allergy intolerance is active. The verification status for this allergy intolerance is confirmed. The type of this allergy intolerance is allergy. The category of this allergy intolerance is environment. The criticality for this allergy intolerance is low. The code for this allergy intolerance is Allergy to substance (finding). This allergy intolerance was recorded date on 09/17/2017 at 02:18:50.\n",
      "\n",
      "Secondary Entry:\n",
      "The type of information in this entry is patient. The name use for this patient is official. The name family for this patient is Kuhn96. The name given 0 for this patient is Athena83. The name given 1 for this patient is Charlena802. The telecom system for this patient is phone. The telecom value for this patient is 555-529-6488. The telecom use for this patient is home. The gender for this patient is female. The birth date for this patient is 2016-07-03. The address line for this patient is 1090 Schoen Viaduct. The address city for this patient is Holbrook. The address state for this patient is MA. The address postalCode for this patient is 02343. The address country for this patient is US. The marital status for this patient is Never Married. The multiple birth boolean for this patient is False. The communication language for this patient is English (United States).\n",
      "\n",
      "Primary Entry:\n",
      "The type of information in this entry is allergy intolerance. The clinical status for this allergy intolerance is active. The verification status for this allergy intolerance is confirmed. The type of this allergy intolerance is allergy. The category of this allergy intolerance is environment. The criticality for this allergy intolerance is low. The code for this allergy intolerance is Allergy to substance (finding). This allergy intolerance was recorded date on 01/27/1937 at 15:21:44.\n",
      "\n",
      "Secondary Entry:\n",
      "The type of information in this entry is patient. The name use for this patient is official. The name family for this patient is Graham902. The name given 0 for this patient is Ardith914. The name given 1 for this patient is Angela104. The name prefix for this patient is Ms.. The telecom system for this patient is phone. The telecom value for this patient is 555-630-8820. The telecom use for this patient is home. The gender for this patient is female. The birth date for this patient is 1931-02-04. The address line for this patient is 1032 Eichmann Path. The address city for this patient is Orleans. The address state for this patient is MA. The address postalCode for this patient is 02653. The address country for this patient is US. The marital status for this patient is Never Married. The multiple birth boolean for this patient is False. The communication language for this patient is English (United States).\n",
      "Human: What allergies does Antone63 have?\n",
      "\u001b[0m\n",
      "\n",
      "\u001b[1m> Finished chain.\u001b[0m\n",
      "\n",
      "\u001b[1m> Finished chain.\u001b[0m\n",
      "\n",
      "\u001b[1m> Finished chain.\u001b[0m\n",
      "('- Allergy to substance\\n'\n",
      " '- Mold\\n'\n",
      " '- Soy bean\\n'\n",
      " '- Grass pollen\\n'\n",
      " '- Animal dander\\n'\n",
      " '- Aspirin')\n"
     ]
    }
   ],
   "source": [
    "# question = \"Based on this explanation of benefits created on February 11, 1999, how much did it cost and what service was provided?\"\n",
    "vector_qa_enhanced = RetrievalQA.from_chain_type(\n",
    "    llm=ChatVertexAI(model_name=VERTEX_AI_MODEL_NAME),\n",
    "    chain_type='stuff',\n",
    "    retriever=retriever_enhanced,\n",
    "    # return_source_documents=True,\n",
    "    verbose=True,\n",
    "    chain_type_kwargs={\"verbose\": True, \"prompt\": prompt}\n",
    ")\n",
    "\n",
    "# question = 'Tell me about the latest medical reconciliation?'\n",
    "pprint(vector_qa_enhanced.run(question))"
   ]
  },
  {
   "cell_type": "markdown",
   "id": "308f655a-3a15-45c7-b55a-b8783468e606",
   "metadata": {},
   "source": [
    "### Cons of this approach\n",
    "A problem with this approach is the data is repeated multiple times (e.g. Patient Information). This results in increased LLM Token consumption and costs.\n",
    "An alternate strategy would be:\n",
    "- First retrieve the Resource in Question from Vector Search\n",
    "- Use the Resource ID to query Neo4J for related Resources (Text field)\n",
    "- Remove Duplicate Resource Entries \n",
    "- Dynamically construct the Context and pass it to the LLM."
   ]
  },
  {
   "cell_type": "markdown",
   "id": "14a879bf-4dd3-4dae-8b9f-272dda7774fc",
   "metadata": {
    "tags": []
   },
   "source": [
    "## Testing with RAG - Custom Retreiver\n",
    "\n",
    "The Custom retriever addresses the above problem. It does so by:\n",
    "- Identifying the Patient Name from User Query. If Patient name not present prompt the User for the Patient Name\n",
    "- Idenitfy the FHIR Resource Type in Question\n",
    "- Perform a similarity search by narrowing down the results based on Patient ID and Resource Type\n",
    "\n",
    "Thus increasing the accuracy of the Context provided to the LLM for information extraction.\n",
    "\n",
    "**Enhancement** - This approach does not address the below use case of getting Related Resources for more context. This can be fixed by combining the Custom Retriever and fetching related Resource text from Neo4J to provide the necessary context to the LLM."
   ]
  },
  {
   "cell_type": "code",
   "execution_count": 114,
   "id": "21981d2b-a4b3-4c50-99e0-0cb9cb0127f7",
   "metadata": {
    "tags": []
   },
   "outputs": [
    {
     "name": "stderr",
     "output_type": "stream",
     "text": [
      "INFO:google.auth.compute_engine._metadata:Compute Engine Metadata server call to universe/universe_domain returned 404, reason: <!DOCTYPE html>\n",
      "<html lang=en>\n",
      "  <meta charset=utf-8>\n",
      "  <meta name=viewport content=\"initial-scale=1, minimum-scale=1, width=device-width\">\n",
      "  <title>Error 404 (Not Found)!!1</title>\n",
      "  <style>\n",
      "    *{margin:0;padding:0}html,code{font:15px/22px arial,sans-serif}html{background:#fff;color:#222;padding:15px}body{margin:7% auto 0;max-width:390px;min-height:180px;padding:30px 0 15px}* > body{background:url(//www.google.com/images/errors/robot.png) 100% 5px no-repeat;padding-right:205px}p{margin:11px 0 22px;overflow:hidden}ins{color:#777;text-decoration:none}a img{border:0}@media screen and (max-width:772px){body{background:none;margin-top:0;max-width:none;padding-right:0}}#logo{background:url(//www.google.com/images/branding/googlelogo/1x/googlelogo_color_150x54dp.png) no-repeat;margin-left:-5px}@media only screen and (min-resolution:192dpi){#logo{background:url(//www.google.com/images/branding/googlelogo/2x/googlelogo_color_150x54dp.png) no-repeat 0% 0%/100% 100%;-moz-border-image:url(//www.google.com/images/branding/googlelogo/2x/googlelogo_color_150x54dp.png) 0}}@media only screen and (-webkit-min-device-pixel-ratio:2){#logo{background:url(//www.google.com/images/branding/googlelogo/2x/googlelogo_color_150x54dp.png) no-repeat;-webkit-background-size:100% 100%}}#logo{display:inline-block;height:54px;width:150px}\n",
      "  </style>\n",
      "  <a href=//www.google.com/><span id=logo aria-label=Google></span></a>\n",
      "  <p><b>404.</b> <ins>That’s an error.</ins>\n",
      "  <p>The requested URL <code>/computeMetadata/v1/universe/universe_domain</code> was not found on this server.  <ins>That’s all we know.</ins>\n",
      "\n",
      "INFO:google.auth.compute_engine._metadata:Compute Engine Metadata server call to universe/universe_domain returned 404, reason: <!DOCTYPE html>\n",
      "<html lang=en>\n",
      "  <meta charset=utf-8>\n",
      "  <meta name=viewport content=\"initial-scale=1, minimum-scale=1, width=device-width\">\n",
      "  <title>Error 404 (Not Found)!!1</title>\n",
      "  <style>\n",
      "    *{margin:0;padding:0}html,code{font:15px/22px arial,sans-serif}html{background:#fff;color:#222;padding:15px}body{margin:7% auto 0;max-width:390px;min-height:180px;padding:30px 0 15px}* > body{background:url(//www.google.com/images/errors/robot.png) 100% 5px no-repeat;padding-right:205px}p{margin:11px 0 22px;overflow:hidden}ins{color:#777;text-decoration:none}a img{border:0}@media screen and (max-width:772px){body{background:none;margin-top:0;max-width:none;padding-right:0}}#logo{background:url(//www.google.com/images/branding/googlelogo/1x/googlelogo_color_150x54dp.png) no-repeat;margin-left:-5px}@media only screen and (min-resolution:192dpi){#logo{background:url(//www.google.com/images/branding/googlelogo/2x/googlelogo_color_150x54dp.png) no-repeat 0% 0%/100% 100%;-moz-border-image:url(//www.google.com/images/branding/googlelogo/2x/googlelogo_color_150x54dp.png) 0}}@media only screen and (-webkit-min-device-pixel-ratio:2){#logo{background:url(//www.google.com/images/branding/googlelogo/2x/googlelogo_color_150x54dp.png) no-repeat;-webkit-background-size:100% 100%}}#logo{display:inline-block;height:54px;width:150px}\n",
      "  </style>\n",
      "  <a href=//www.google.com/><span id=logo aria-label=Google></span></a>\n",
      "  <p><b>404.</b> <ins>That’s an error.</ins>\n",
      "  <p>The requested URL <code>/computeMetadata/v1/universe/universe_domain</code> was not found on this server.  <ins>That’s all we know.</ins>\n",
      "\n",
      "INFO:google.auth.compute_engine._metadata:Compute Engine Metadata server call to universe/universe_domain returned 404, reason: <!DOCTYPE html>\n",
      "<html lang=en>\n",
      "  <meta charset=utf-8>\n",
      "  <meta name=viewport content=\"initial-scale=1, minimum-scale=1, width=device-width\">\n",
      "  <title>Error 404 (Not Found)!!1</title>\n",
      "  <style>\n",
      "    *{margin:0;padding:0}html,code{font:15px/22px arial,sans-serif}html{background:#fff;color:#222;padding:15px}body{margin:7% auto 0;max-width:390px;min-height:180px;padding:30px 0 15px}* > body{background:url(//www.google.com/images/errors/robot.png) 100% 5px no-repeat;padding-right:205px}p{margin:11px 0 22px;overflow:hidden}ins{color:#777;text-decoration:none}a img{border:0}@media screen and (max-width:772px){body{background:none;margin-top:0;max-width:none;padding-right:0}}#logo{background:url(//www.google.com/images/branding/googlelogo/1x/googlelogo_color_150x54dp.png) no-repeat;margin-left:-5px}@media only screen and (min-resolution:192dpi){#logo{background:url(//www.google.com/images/branding/googlelogo/2x/googlelogo_color_150x54dp.png) no-repeat 0% 0%/100% 100%;-moz-border-image:url(//www.google.com/images/branding/googlelogo/2x/googlelogo_color_150x54dp.png) 0}}@media only screen and (-webkit-min-device-pixel-ratio:2){#logo{background:url(//www.google.com/images/branding/googlelogo/2x/googlelogo_color_150x54dp.png) no-repeat;-webkit-background-size:100% 100%}}#logo{display:inline-block;height:54px;width:150px}\n",
      "  </style>\n",
      "  <a href=//www.google.com/><span id=logo aria-label=Google></span></a>\n",
      "  <p><b>404.</b> <ins>That’s an error.</ins>\n",
      "  <p>The requested URL <code>/computeMetadata/v1/universe/universe_domain</code> was not found on this server.  <ins>That’s all we know.</ins>\n",
      "\n"
     ]
    }
   ],
   "source": [
    "me_utils = MatchingEngineUtils(PROJECT_ID, REGION, ME_INDEX_NAME)\n",
    "\n",
    "# Get Matching Engine Index id and Endpoint id\n",
    "ME_INDEX_ID, ME_INDEX_ENDPOINT_ID = me_utils.get_index_and_endpoint()\n",
    "\n",
    "# Create Text Embedding\n",
    "embeddings = VertexAIEmbeddings(\n",
    "    model_name=\"textembedding-gecko@003\",\n",
    "    project=PROJECT_ID,\n",
    "    location=REGION,\n",
    "    max_retries=6\n",
    ")\n",
    "\n",
    "# Initialize vector store\n",
    "me = MatchingEngine.from_components(\n",
    "    project_id=PROJECT_ID,\n",
    "    region=REGION,\n",
    "    gcs_bucket_name=f\"gs://{ME_EMBEDDING_GCS_DIR}\".split(\"/\")[2],\n",
    "    embedding=embeddings,\n",
    "    index_id=ME_INDEX_ID,\n",
    "    endpoint_id=ME_INDEX_ENDPOINT_ID,\n",
    ")"
   ]
  },
  {
   "cell_type": "code",
   "execution_count": 115,
   "id": "f290337a-9dd3-4f40-917a-a4a847471552",
   "metadata": {
    "tags": []
   },
   "outputs": [
    {
     "data": {
      "text/plain": [
       "'What allergies does Antone63 have?'"
      ]
     },
     "execution_count": 115,
     "metadata": {},
     "output_type": "execute_result"
    }
   ],
   "source": [
    "question"
   ]
  },
  {
   "cell_type": "code",
   "execution_count": 46,
   "id": "9dd0a873-774f-4a0e-8a9c-5ab32189d385",
   "metadata": {
    "tags": []
   },
   "outputs": [
    {
     "name": "stdout",
     "output_type": "stream",
     "text": [
      "\n",
      "\n",
      "\u001b[1m> Entering new RetrievalQA chain...\u001b[0m\n",
      "\n",
      "\u001b[1m> Finished chain.\u001b[0m\n",
      "{'query': 'What allergies does Antone63 have?', 'result': 'Antone63 has allergies to the following substances:\\n- Allergy to substance (finding)\\n- Grass pollen (substance)\\n- Mold (organism)\\n- Aspirin\\n- Animal dander (substance)\\n- Soy bean'}\n"
     ]
    }
   ],
   "source": [
    "\n",
    "\n",
    "llm = VertexAI(model_name=VERTEX_AI_MODEL_NAME)\n",
    "\n",
    "graph = Graph(NEO4J_URL, NEO4J_USER, NEO4J_PASSWORD)\n",
    "retriever = FHIRResourcesRetriever(llm=llm, me=me, neo4j_graph=graph)\n",
    "\n",
    "vector_qa = RetrievalQA.from_chain_type(\n",
    "    llm=ChatVertexAI(model_name=VERTEX_AI_MODEL_NAME),\n",
    "    chain_type='stuff',\n",
    "    retriever=retriever,\n",
    "    # return_source_documents=True,\n",
    "    verbose=True,\n",
    "    chain_type_kwargs={\"verbose\": False, \"prompt\": prompt}\n",
    ")\n",
    "\n",
    "# print(vector_qa.__dir__())\n",
    "print(vector_qa.invoke(question))"
   ]
  },
  {
   "cell_type": "markdown",
   "id": "bff1d120-a2da-43dc-8b69-601d4e545c62",
   "metadata": {},
   "source": [
    "## RAG with Enhanced Context and Custom Retriever"
   ]
  },
  {
   "cell_type": "code",
   "execution_count": 107,
   "id": "9b3d283e-c4ec-48b3-a965-87166054c6ed",
   "metadata": {
    "tags": []
   },
   "outputs": [
    {
     "data": {
      "text/plain": [
       "'What allergies does Antone63 have?'"
      ]
     },
     "execution_count": 107,
     "metadata": {},
     "output_type": "execute_result"
    }
   ],
   "source": [
    "question"
   ]
  },
  {
   "cell_type": "code",
   "execution_count": 108,
   "id": "f45673f3-9415-42fa-833b-2b9c94666bec",
   "metadata": {
    "tags": []
   },
   "outputs": [
    {
     "name": "stdout",
     "output_type": "stream",
     "text": [
      "\n",
      "\n",
      "\u001b[1m> Entering new RetrievalQA chain...\u001b[0m\n",
      "\n",
      "\n",
      "\u001b[1m> Entering new StuffDocumentsChain chain...\u001b[0m\n",
      "\n",
      "\n",
      "\u001b[1m> Entering new LLMChain chain...\u001b[0m\n",
      "Prompt after formatting:\n",
      "\u001b[32;1m\u001b[1;3m\n",
      "System: The context below contains entries about the patient's healthcare. \n",
      "Please limit your answer to the information provided in the context. Do not make up facts.\n",
      "Please limit your answers only about the patient in the user question. If you do not find the patient name in the context.\n",
      "If you don't know the answer, just say that you don't know, don't try to make up an answer.\n",
      "If you are asked about the patient's name and one the entries is of type patient, you should look for the first given name and family name and answer with: [given] [family]\n",
      "----------------\n",
      "The Patient name is Antone63 \n",
      "FHIR Resource Type is AllergyIntolerance \n",
      "Patient_ID=ff8b984d-7727-92f0-0995-ae25d0eb774f \n",
      "Below is the medical information of Antone63: \n",
      "[Document(page_content='Primary Entry:\\nThe type of information in this entry is allergy intolerance. The clinical status for this allergy intolerance is active. The verification status for this allergy intolerance is confirmed. The type of this allergy intolerance is allergy. The category of this allergy intolerance is environment. The criticality for this allergy intolerance is low. The code for this allergy intolerance is Allergy to substance (finding). This allergy intolerance was recorded date on 01/21/1971 at 20:35:45.\\n\\nSecondary Entry:\\nThe type of information in this entry is patient. The name use for this patient is official. The name family for this patient is Kessler503. The name given 0 for this patient is Antone63. The name given 1 for this patient is Keven605. The name prefix for this patient is Mr.. The telecom system for this patient is phone. The telecom value for this patient is 555-571-5195. The telecom use for this patient is home. The gender for this patient is male. The birth date for this patient is 1970-01-21. The address line for this patient is 973 Nikolaus Viaduct. The address city for this patient is Plymouth. The address state for this patient is MA. The address postalCode for this patient is 02360. The address country for this patient is US. The marital status for this patient is Married. The multiple birth boolean for this patient is False. The communication language for this patient is English (United States).', metadata={'fhir_patient_id': 'ff8b984d-7727-92f0-0995-ae25d0eb774f', 'fhir_resource_id': '7c862cd4-fd6f-bc36-ac34-d3237ab2ae2c', 'fhir_resource_type': 'AllergyIntolerance', 'neo4j_node_id': '4:dfafac18-9f37-43c7-a973-b308f9812678:5870', 'score': 0.8134691119194031}), Document(page_content='Primary Entry:\\nThe type of information in this entry is allergy intolerance. The clinical status for this allergy intolerance is active. The verification status for this allergy intolerance is confirmed. The type of this allergy intolerance is allergy. The category of this allergy intolerance is medication. The criticality for this allergy intolerance is low. The code for this allergy intolerance is Aspirin. This allergy intolerance was recorded date on 01/21/1971 at 20:35:45. The 1st reaction manifestation of this allergy intolerance is Abdominal pain (finding). The 1st reaction severity for this allergy intolerance is moderate.\\n\\nSecondary Entry:\\nThe type of information in this entry is patient. The name use for this patient is official. The name family for this patient is Kessler503. The name given 0 for this patient is Antone63. The name given 1 for this patient is Keven605. The name prefix for this patient is Mr.. The telecom system for this patient is phone. The telecom value for this patient is 555-571-5195. The telecom use for this patient is home. The gender for this patient is male. The birth date for this patient is 1970-01-21. The address line for this patient is 973 Nikolaus Viaduct. The address city for this patient is Plymouth. The address state for this patient is MA. The address postalCode for this patient is 02360. The address country for this patient is US. The marital status for this patient is Married. The multiple birth boolean for this patient is False. The communication language for this patient is English (United States).', metadata={'fhir_patient_id': 'ff8b984d-7727-92f0-0995-ae25d0eb774f', 'fhir_resource_id': 'de9c53df-5562-0976-59e0-2f78bff546dd', 'fhir_resource_type': 'AllergyIntolerance', 'neo4j_node_id': '4:dfafac18-9f37-43c7-a973-b308f9812678:5874', 'score': 0.793843150138855}), Document(page_content='Primary Entry:\\nThe type of information in this entry is allergy intolerance. The clinical status for this allergy intolerance is active. The verification status for this allergy intolerance is confirmed. The type of this allergy intolerance is allergy. The category of this allergy intolerance is environment. The criticality for this allergy intolerance is low. The code for this allergy intolerance is Grass pollen (substance). This allergy intolerance was recorded date on 01/21/1971 at 20:35:45.\\n\\nSecondary Entry:\\nThe type of information in this entry is patient. The name use for this patient is official. The name family for this patient is Kessler503. The name given 0 for this patient is Antone63. The name given 1 for this patient is Keven605. The name prefix for this patient is Mr.. The telecom system for this patient is phone. The telecom value for this patient is 555-571-5195. The telecom use for this patient is home. The gender for this patient is male. The birth date for this patient is 1970-01-21. The address line for this patient is 973 Nikolaus Viaduct. The address city for this patient is Plymouth. The address state for this patient is MA. The address postalCode for this patient is 02360. The address country for this patient is US. The marital status for this patient is Married. The multiple birth boolean for this patient is False. The communication language for this patient is English (United States).', metadata={'fhir_patient_id': 'ff8b984d-7727-92f0-0995-ae25d0eb774f', 'fhir_resource_id': 'a4092d3f-a291-e53b-7ac1-edbc10f0cfba', 'fhir_resource_type': 'AllergyIntolerance', 'neo4j_node_id': '4:dfafac18-9f37-43c7-a973-b308f9812678:5873', 'score': 0.788374662399292}), Document(page_content='Primary Entry:\\nThe type of information in this entry is allergy intolerance. The clinical status for this allergy intolerance is active. The verification status for this allergy intolerance is confirmed. The type of this allergy intolerance is allergy. The category of this allergy intolerance is environment. The criticality for this allergy intolerance is low. The code for this allergy intolerance is Animal dander (substance). This allergy intolerance was recorded date on 01/21/1971 at 20:35:45. The 1st reaction manifestation of this allergy intolerance is Eruption of skin (disorder). The 1st reaction severity for this allergy intolerance is mild. The 2nd reaction manifestation of this allergy intolerance is Rhinoconjunctivitis (disorder). The 2nd reaction severity for this allergy intolerance is moderate.\\n\\nSecondary Entry:\\nThe type of information in this entry is patient. The name use for this patient is official. The name family for this patient is Kessler503. The name given 0 for this patient is Antone63. The name given 1 for this patient is Keven605. The name prefix for this patient is Mr.. The telecom system for this patient is phone. The telecom value for this patient is 555-571-5195. The telecom use for this patient is home. The gender for this patient is male. The birth date for this patient is 1970-01-21. The address line for this patient is 973 Nikolaus Viaduct. The address city for this patient is Plymouth. The address state for this patient is MA. The address postalCode for this patient is 02360. The address country for this patient is US. The marital status for this patient is Married. The multiple birth boolean for this patient is False. The communication language for this patient is English (United States).', metadata={'fhir_patient_id': 'ff8b984d-7727-92f0-0995-ae25d0eb774f', 'fhir_resource_id': '2684cd53-fe51-1edd-765c-0acfd28b8643', 'fhir_resource_type': 'AllergyIntolerance', 'neo4j_node_id': '4:dfafac18-9f37-43c7-a973-b308f9812678:5872', 'score': 0.7858685255050659}), Document(page_content='Primary Entry:\\nThe type of information in this entry is allergy intolerance. The clinical status for this allergy intolerance is active. The verification status for this allergy intolerance is confirmed. The type of this allergy intolerance is allergy. The category of this allergy intolerance is food. The criticality for this allergy intolerance is low. The code for this allergy intolerance is Soy bean. This allergy intolerance was recorded date on 01/21/1971 at 20:35:45. The 1st reaction manifestation of this allergy intolerance is Diarrhea (finding).\\n\\nSecondary Entry:\\nThe type of information in this entry is patient. The name use for this patient is official. The name family for this patient is Kessler503. The name given 0 for this patient is Antone63. The name given 1 for this patient is Keven605. The name prefix for this patient is Mr.. The telecom system for this patient is phone. The telecom value for this patient is 555-571-5195. The telecom use for this patient is home. The gender for this patient is male. The birth date for this patient is 1970-01-21. The address line for this patient is 973 Nikolaus Viaduct. The address city for this patient is Plymouth. The address state for this patient is MA. The address postalCode for this patient is 02360. The address country for this patient is US. The marital status for this patient is Married. The multiple birth boolean for this patient is False. The communication language for this patient is English (United States).', metadata={'fhir_patient_id': 'ff8b984d-7727-92f0-0995-ae25d0eb774f', 'fhir_resource_id': '0fec8997-7f77-cc64-0afa-6a79ab3e9736', 'fhir_resource_type': 'AllergyIntolerance', 'neo4j_node_id': '4:dfafac18-9f37-43c7-a973-b308f9812678:5875', 'score': 0.785230278968811}), Document(page_content='Primary Entry:\\nThe type of information in this entry is allergy intolerance. The clinical status for this allergy intolerance is active. The verification status for this allergy intolerance is confirmed. The type of this allergy intolerance is allergy. The category of this allergy intolerance is environment. The criticality for this allergy intolerance is low. The code for this allergy intolerance is Mold (organism). This allergy intolerance was recorded date on 01/21/1971 at 20:35:45. The 1st reaction manifestation of this allergy intolerance is Allergic skin rash. The 1st reaction severity for this allergy intolerance is mild.\\n\\nSecondary Entry:\\nThe type of information in this entry is patient. The name use for this patient is official. The name family for this patient is Kessler503. The name given 0 for this patient is Antone63. The name given 1 for this patient is Keven605. The name prefix for this patient is Mr.. The telecom system for this patient is phone. The telecom value for this patient is 555-571-5195. The telecom use for this patient is home. The gender for this patient is male. The birth date for this patient is 1970-01-21. The address line for this patient is 973 Nikolaus Viaduct. The address city for this patient is Plymouth. The address state for this patient is MA. The address postalCode for this patient is 02360. The address country for this patient is US. The marital status for this patient is Married. The multiple birth boolean for this patient is False. The communication language for this patient is English (United States).', metadata={'fhir_patient_id': 'ff8b984d-7727-92f0-0995-ae25d0eb774f', 'fhir_resource_id': 'daeb57c5-96ba-ed7a-138b-7f99251cdeae', 'fhir_resource_type': 'AllergyIntolerance', 'neo4j_node_id': '4:dfafac18-9f37-43c7-a973-b308f9812678:5871', 'score': 0.7817747592926025}), Document(page_content='Primary Entry:\\nThe type of information in this entry is care team. The status for this care team is active. This care team was period start on 01/12/1971 at 04:35:45. The participant 0 member display for this care team is Mr. Antone63 Keven605 Kessler503. The participant 1 member display for this care team is Dr. Sulema841 Ryan260. The participant 2 member display for this care team is SOUTHCOAST HOSPITAL GROUP, INC. The managing organization display for this care team is SOUTHCOAST HOSPITAL GROUP, INC.\\n\\nSecondary Entry:\\nThe type of information in this entry is care plan. The status for this care plan is active. The intent for this care plan is order. The 1st category of this care plan is assess-plan. The 2nd category of this care plan is Self-care interventions (procedure). This care plan was period start on 01/12/1971 at 04:35:45. The activity 0 detail code for this care plan is Food allergy diet. The activity 0 detail status for this care plan is in-progress. The activity 1 detail code for this care plan is Allergy education. The activity 1 detail status for this care plan is in-progress.\\n\\nSecondary Entry:\\nThe type of information in this entry is patient. The name use for this patient is official. The name family for this patient is Kessler503. The name given 0 for this patient is Antone63. The name given 1 for this patient is Keven605. The name prefix for this patient is Mr.. The telecom system for this patient is phone. The telecom value for this patient is 555-571-5195. The telecom use for this patient is home. The gender for this patient is male. The birth date for this patient is 1970-01-21. The address line for this patient is 973 Nikolaus Viaduct. The address city for this patient is Plymouth. The address state for this patient is MA. The address postalCode for this patient is 02360. The address country for this patient is US. The marital status for this patient is Married. The multiple birth boolean for this patient is False. The communication language for this patient is English (United States).\\n\\nSecondary Entry:\\nThe type of information in this entry is encounter. The status for this encounter is finished. The class for this encounter is AMB. The type of this encounter is Encounter for problem. The participant type of this encounter is primary performer. This encounter was participant period start on 01/12/1971 at 04:35:45. This encounter was participant period end on 01/12/1971 at 04:50:45. This encounter was period start on 01/12/1971 at 04:35:45. This encounter was period end on 01/12/1971 at 04:50:45. The reason code coding system for this encounter is http://snomed.info/sct. The reason code coding code for this encounter is 256355007. The reason code coding display for this encounter is Soy bean.', metadata={'fhir_patient_id': 'ff8b984d-7727-92f0-0995-ae25d0eb774f', 'fhir_resource_id': 'a956650a-0b41-2998-b1d5-bed1b1a660a0', 'fhir_resource_type': 'CareTeam', 'neo4j_node_id': '4:dfafac18-9f37-43c7-a973-b308f9812678:5861', 'score': 0.768577516078949}), Document(page_content='Primary Entry:\\nThe type of information in this entry is care plan. The status for this care plan is active. The intent for this care plan is order. The 1st category of this care plan is assess-plan. The 2nd category of this care plan is Self-care interventions (procedure). This care plan was period start on 01/12/1971 at 04:35:45. The activity 0 detail code for this care plan is Food allergy diet. The activity 0 detail status for this care plan is in-progress. The activity 1 detail code for this care plan is Allergy education. The activity 1 detail status for this care plan is in-progress.\\n\\nSecondary Entry:\\nThe type of information in this entry is care team. The status for this care team is active. This care team was period start on 01/12/1971 at 04:35:45. The participant 0 member display for this care team is Mr. Antone63 Keven605 Kessler503. The participant 1 member display for this care team is Dr. Sulema841 Ryan260. The participant 2 member display for this care team is SOUTHCOAST HOSPITAL GROUP, INC. The managing organization display for this care team is SOUTHCOAST HOSPITAL GROUP, INC.\\n\\nSecondary Entry:\\nThe type of information in this entry is encounter. The status for this encounter is finished. The class for this encounter is AMB. The type of this encounter is Encounter for problem. The participant type of this encounter is primary performer. This encounter was participant period start on 01/12/1971 at 04:35:45. This encounter was participant period end on 01/12/1971 at 04:50:45. This encounter was period start on 01/12/1971 at 04:35:45. This encounter was period end on 01/12/1971 at 04:50:45. The reason code coding system for this encounter is http://snomed.info/sct. The reason code coding code for this encounter is 256355007. The reason code coding display for this encounter is Soy bean.\\n\\nSecondary Entry:\\nThe type of information in this entry is patient. The name use for this patient is official. The name family for this patient is Kessler503. The name given 0 for this patient is Antone63. The name given 1 for this patient is Keven605. The name prefix for this patient is Mr.. The telecom system for this patient is phone. The telecom value for this patient is 555-571-5195. The telecom use for this patient is home. The gender for this patient is male. The birth date for this patient is 1970-01-21. The address line for this patient is 973 Nikolaus Viaduct. The address city for this patient is Plymouth. The address state for this patient is MA. The address postalCode for this patient is 02360. The address country for this patient is US. The marital status for this patient is Married. The multiple birth boolean for this patient is False. The communication language for this patient is English (United States).', metadata={'fhir_patient_id': 'ff8b984d-7727-92f0-0995-ae25d0eb774f', 'fhir_resource_id': '83f2770c-5298-bfc8-3abf-fb0f20f82bcd', 'fhir_resource_type': 'CarePlan', 'neo4j_node_id': '4:dfafac18-9f37-43c7-a973-b308f9812678:5862', 'score': 0.7647290229797363})]\n",
      "Human: What allergies does Antone63 have?\n",
      "\u001b[0m\n",
      "\n",
      "\u001b[1m> Finished chain.\u001b[0m\n",
      "\n",
      "\u001b[1m> Finished chain.\u001b[0m\n",
      "\n",
      "\u001b[1m> Finished chain.\u001b[0m\n",
      "{'query': 'What allergies does Antone63 have?', 'result': '•\\tAllergy to substance (finding)\\n•\\tAspirin\\n•\\tGrass pollen (substance)\\n•\\tAnimal dander (substance)\\n•\\tSoy bean\\n•\\tMold (organism)'}\n"
     ]
    }
   ],
   "source": [
    "llm = VertexAI(model_name=VERTEX_AI_MODEL_NAME)\n",
    "\n",
    "graph = Graph(NEO4J_URL, NEO4J_USER, NEO4J_PASSWORD)\n",
    "retriever = FHIRResourcesRetriever(llm=llm, me=me_enhanced, neo4j_graph=graph)\n",
    "\n",
    "vector_qa = RetrievalQA.from_chain_type(\n",
    "    llm=ChatVertexAI(model_name=VERTEX_AI_MODEL_NAME),\n",
    "    chain_type='stuff',\n",
    "    retriever=retriever,\n",
    "    # return_source_documents=True,\n",
    "    verbose=True,\n",
    "    chain_type_kwargs={\"verbose\": True, \"prompt\": prompt}\n",
    ")\n",
    "\n",
    "print(vector_qa.invoke(question))"
   ]
  },
  {
   "cell_type": "markdown",
   "id": "38d1110f-4da5-428e-aa53-a7e6b977bd90",
   "metadata": {},
   "source": [
    "-----"
   ]
  },
  {
   "cell_type": "code",
   "execution_count": null,
   "id": "64616611-3669-4f80-b561-1c706e540cd6",
   "metadata": {
    "tags": []
   },
   "outputs": [],
   "source": [
    "def date_for_question(question_to_find_date):\n",
    "    _llm = text_bison_llm \n",
    "    _response = _llm(f'''\n",
    "    system:Given the following question from the user, extract the date the question is asking about.\n",
    "    Return the answer formatted as JSON only, as a single line.\n",
    "    Use the form:\n",
    "    \n",
    "    {{\"date\":\"[THE DATE IN THE QUESTION]\"}}\n",
    "    \n",
    "    Use the date format of month/day/year.\n",
    "    Use two digits for the month and day.\n",
    "    Use four digits for the year.\n",
    "    So 3/4/23 should be returned as {{\"date\":\"03/04/2023\"}}.\n",
    "    So 04/14/89 should be returned as {{\"date\":\"04/14/1989\"}}.\n",
    "    \n",
    "    Please do not include any special formatting characters, like new lines or \"\\\\n\".\n",
    "    Please do not include the word \"json\".\n",
    "    Please do not include triple quotes.\n",
    "    \n",
    "    If there is no date, do not make one up. \n",
    "    If there is no date return the word \"none\", like: {{\"date\":\"none\"}}\n",
    "    \n",
    "    user:{question_to_find_date}\n",
    "    ''')\n",
    "    date_json = json.loads(_response)\n",
    "    return date_json['date']\n",
    "\n",
    "date_str = date_for_question(question)\n",
    "print(date_str)"
   ]
  },
  {
   "cell_type": "code",
   "execution_count": 65,
   "id": "d20483e2-8253-4d1f-9e3d-5fac6680a4a9",
   "metadata": {
    "tags": []
   },
   "outputs": [
    {
     "name": "stdout",
     "output_type": "stream",
     "text": [
      "Antone63\n"
     ]
    }
   ],
   "source": [
    "def get_patient_name(question_to_find_names):\n",
    "    # _llm = text_bison_llm \n",
    "    \n",
    "    _response = llm(f'''\n",
    "    system:Given the following question from the user, identify all potential first and last names within this sentence.\n",
    "    \n",
    "    The name might also contain numbers e.g. Andrea7, Jenkins714, Chasity985, Pagac496\n",
    "    The name might also contain Apostrophe e.g. Andrea's, John's, Johns' James'\n",
    "    If the nameis in the format Smith, John then first-name = John, last-name = Smith\n",
    "    \n",
    "    Return the answer formatted as first-name last-name.\n",
    "    \n",
    "    Use the form:\n",
    "    first-name last name\n",
    "    \n",
    "    Please do not include any special formatting characters, like new lines or \"\\\\n\".\n",
    "    Please do not include triple quotes.\n",
    "    \n",
    "    If there are no names, do not make one up. \n",
    "    If there are no names return an empty string link \"\"\n",
    "    \n",
    "    user:{question_to_find_names}\n",
    "    ''')\n",
    "    names = _response\n",
    "    if names == \"\":\n",
    "        input(\"Please enter the Patient name:\")\n",
    "    return names\n",
    "\n",
    "# Jenkins714 Andrea7\n",
    "q = question\n",
    "patient_name = get_patient_name(q).strip()\n",
    "print(patient_name)\n",
    "\n",
    "\n",
    "# While Loading data into Neo4J we created a 'Text' Attribute to convert Resource JSON format to Text.\n",
    "# We will use the same sentence structure to get an accurate seearch result from Vector Store.\n",
    "patient_name_query=f\"The type of information in this entry is patient. The name use for this patient is official. The name family for this patient is {patient_name}. The name given 0 for this patient is {patient_name}.\"\n",
    "# print(patient_name_query)\n",
    "\n",
    "response = me.similarity_search(patient_name_query, k=2)\n",
    "for doc in response:\n",
    "    if doc.metadata['score'] > .85:\n",
    "        print(doc)\n",
    "        print(\"\\n\")"
   ]
  },
  {
   "cell_type": "markdown",
   "id": "252a0185-3cd6-44ec-814d-2df02e162da3",
   "metadata": {
    "tags": []
   },
   "source": [
    "---\n",
    "## Cleaning Up\n",
    "\n",
    "<div class=\"alert alert-block alert-warning\">\n",
    "<b>⚠️ Important: To avoid incurring charges, please delete the Google Cloud resources used in this tutorial. ⚠️</b>\n",
    "</div>\n",
    "\n"
   ]
  },
  {
   "cell_type": "code",
   "execution_count": null,
   "id": "bd5bc8d1-c215-40f3-a504-14e248eff059",
   "metadata": {
    "tags": []
   },
   "outputs": [],
   "source": [
    "CLEANUP_RESOURCES = True"
   ]
  },
  {
   "cell_type": "markdown",
   "id": "8f903817-df2a-41e6-b640-23d60cff9663",
   "metadata": {},
   "source": [
    "### Delete Neo4J Docker"
   ]
  },
  {
   "cell_type": "code",
   "execution_count": null,
   "id": "e56ed646-5dd0-427f-932a-41c12de2c877",
   "metadata": {
    "tags": []
   },
   "outputs": [],
   "source": [
    "# Wipe Neo4J Database\n",
    "graph = Graph(NEO4J_URL, NEO4J_USER, NEO4J_PASSWORD)\n",
    "if CLEANUP_RESOURCES:\n",
    "    graph.wipe_database()"
   ]
  },
  {
   "cell_type": "code",
   "execution_count": null,
   "id": "4b1e88f7-aa31-469a-a9fa-3ff58c77a8cf",
   "metadata": {
    "tags": []
   },
   "outputs": [],
   "source": [
    "# DELETE NEO4J CONTAINER\n",
    "if CLEANUP_RESOURCES:\n",
    "    ! docker stop testneo4j\n",
    "    ! docker rm -fv testneo4j\n",
    "    ! sudo rm -rf $HOME/neo4j"
   ]
  },
  {
   "cell_type": "markdown",
   "id": "7b8e87da-ab55-453d-b657-200759ceee42",
   "metadata": {},
   "source": [
    "### Delete Vector Search Indexes & Index-Endpoints"
   ]
  },
  {
   "cell_type": "markdown",
   "id": "7a1f6583-70f5-47a5-a481-df8a953bb4a1",
   "metadata": {},
   "source": [
    "- Delete ME Vector Search Index and Endpoints"
   ]
  },
  {
   "cell_type": "code",
   "execution_count": null,
   "id": "6148d8bc-1d50-479c-b5ee-8092d727d0d1",
   "metadata": {
    "tags": []
   },
   "outputs": [],
   "source": [
    "me_utils = MatchingEngineUtils(PROJECT_ID, REGION, ME_INDEX_NAME)\n",
    "ME_INDEX_ID, ME_INDEX_ENDPOINT_ID = me_utils.get_index_and_endpoint()\n",
    "\n",
    "# Delete Endpoint\n",
    "if CLEANUP_RESOURCES and \"me_utils\" in globals():\n",
    "    print(\n",
    "        f\"Undeploying all deployed indexes and deleting the index endpoint {ME_INDEX_ENDPOINT_ID}\"\n",
    "    )\n",
    "    me_utils.delete_index_endpoint()\n",
    "\n",
    "# Delete Index     \n",
    "if CLEANUP_RESOURCES and \"me_utils\" in globals():\n",
    "    print(f\"Deleting the index {ME_INDEX_ID}\")\n",
    "    me_utils.delete_index()    \n",
    "\n",
    "# Delete Bucket    \n",
    "if CLEANUP_RESOURCES:\n",
    "    # Delete contents of the bucket \n",
    "    ! gsutil -m rm -r gs://{ME_EMBEDDING_GCS_DIR}\n",
    "    ! gsutil rb gs://{ME_EMBEDDING_GCS_DIR}\n",
    "\n",
    "print('Vector Search and GCS Bucket Cleaning complete!')"
   ]
  },
  {
   "cell_type": "markdown",
   "id": "61da45ba-8e02-4b35-bfad-69b7ff8c05e3",
   "metadata": {},
   "source": [
    "- Delete ME_ENHANCED Vector Search Index and Endpoints"
   ]
  },
  {
   "cell_type": "code",
   "execution_count": null,
   "id": "d6722282-b519-49e5-b617-9b9a2aa033ab",
   "metadata": {
    "tags": []
   },
   "outputs": [],
   "source": [
    "me_utils_enhanced = MatchingEngineUtils(PROJECT_ID, REGION, ME_ENHANCED_CONTEXT_INDEX_NAME)\n",
    "ME_ENHANCED_INDEX_ID, ME_ENHANCED_INDEX_ENDPOINT_ID = me_utils_enhanced.get_index_and_endpoint()\n",
    "\n",
    "# Delete Endpoint\n",
    "if CLEANUP_RESOURCES and \"me_utils_enhanced\" in globals():\n",
    "    print(\n",
    "        f\"Undeploying all deployed indexes and deleting the index endpoint {ME_ENHANCED_INDEX_ENDPOINT_ID}\"\n",
    "    )\n",
    "    me_utils_enhanced.delete_index_endpoint()\n",
    "\n",
    "# Delete Index    \n",
    "if CLEANUP_RESOURCES and \"me_utils_enhanced\" in globals():\n",
    "    print(f\"Deleting the index {ME_ENHANCED_INDEX_ID}\")\n",
    "    me_utils_enhanced.delete_index()\n",
    "\n",
    "# Delete Bucket\n",
    "if CLEANUP_RESOURCES:\n",
    "    ! gsutil -m rm -r gs://{ME_ENHANCED_EMBEDDING_GCS_DIR}\n",
    "    ! gsutil rb gs://{ME_ENHANCED_EMBEDDING_GCS_DIR}"
   ]
  },
  {
   "cell_type": "markdown",
   "id": "48492157-d639-4107-b352-a9eeb6e65547",
   "metadata": {},
   "source": [
    "### Delete the Google Cloud Storage Bucket"
   ]
  },
  {
   "cell_type": "code",
   "execution_count": null,
   "id": "4a161091-565e-494d-b732-7533cb1d6523",
   "metadata": {
    "tags": []
   },
   "outputs": [],
   "source": [
    "if CLEANUP_RESOURCES:\n",
    "\n",
    "    # Delete Bucket\n",
    "    ! gsutil rb gs://{ME_EMBEDDING_GCS_DIR}\n",
    "    ! gsutil rb gs://{ME_ENHANCED_EMBEDDING_GCS_DIR}"
   ]
  },
  {
   "cell_type": "markdown",
   "id": "fa673cfe-cda3-4312-ae82-8b300299b1e8",
   "metadata": {},
   "source": [
    "# To-Do"
   ]
  },
  {
   "cell_type": "markdown",
   "id": "18457317-ea09-4a17-bb8e-ffcd8c4d277a",
   "metadata": {},
   "source": [
    "- Example MedLM Integration - Query all Patients with high risk of some disease (Stroke)\n",
    "- Query all Vacation candiates and based on time send Notification to them. E.g. Child vacccination message to Parent - Query Neo4J Date Nodes range"
   ]
  }
 ],
 "metadata": {
  "environment": {
   "kernel": "conda-root-py",
   "name": "workbench-notebooks.m117",
   "type": "gcloud",
   "uri": "us-docker.pkg.dev/deeplearning-platform-release/gcr.io/workbench-notebooks:m117"
  },
  "kernelspec": {
   "display_name": "Python 3 (ipykernel)",
   "language": "python",
   "name": "conda-root-py"
  },
  "language_info": {
   "codemirror_mode": {
    "name": "ipython",
    "version": 3
   },
   "file_extension": ".py",
   "mimetype": "text/x-python",
   "name": "python",
   "nbconvert_exporter": "python",
   "pygments_lexer": "ipython3",
   "version": "3.10.13"
  }
 },
 "nbformat": 4,
 "nbformat_minor": 5
}
